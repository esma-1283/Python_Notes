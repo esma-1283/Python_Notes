{
 "cells": [
  {
   "cell_type": "markdown",
   "metadata": {},
   "source": [
    "## Sqlite Veritabanı"
   ]
  },
  {
   "cell_type": "markdown",
   "metadata": {},
   "source": [
    "Sunucusuz bir veri tabanıdır."
   ]
  },
  {
   "cell_type": "markdown",
   "metadata": {},
   "source": [
    "import sqlite3 == Sqlite ı dahil ediyoruz.\n",
    "\n",
    "connect = sqlite3.connect(\"kütüphane.db\") == Tabloya bağlanıyoruz.#Değişken\n",
    "\n",
    "cursor = con.cursor() == Veri tabanı üzerinde işlem yapmak için kullanacağımız imleç olucak cursor.#Değişken\n",
    "\n",
    "connect.close()  == Bağlantıyı kapatıyoruz."
   ]
  },
  {
   "cell_type": "markdown",
   "metadata": {},
   "source": [
    "\n",
    "\n",
    "\n",
    "\n",
    "\n",
    "\n",
    "\n",
    "\n",
    "\n",
    "\n",
    "connect = sqlite3.connect(\"kütüphane.db\"):\n",
    "\n",
    "Bulunduğum dizinde kütüphane.db adında bir veri tabanı yoksa oluşturucak ve bağlanacak.\n",
    "\n",
    "Eğer varsa sadece bağlanacak.\n",
    "\n",
    "cursor = connect.cursor():\n",
    "\n",
    "Database imiz üzerindeki tüm işlemleri cursor üzerinden yapacağız.\n",
    "\n",
    "connect.close():\n",
    "\n",
    "Dosyalar gibi işlemimiz bitince kapatmamız gerekiyor.\n",
    "\n",
    "\n",
    "\n"
   ]
  },
  {
   "cell_type": "markdown",
   "metadata": {},
   "source": [
    "Veri tabanında kitaplık adında bir tablo oluşturmak için 2 sorgudan biri kullanılabilir:\n",
    "\n",
    "CREATE TABLE kitaplık (İsim TEXT,Yazar TEXT,Yayınevi TEXT,Sayfa_sayısı INT)\n",
    "\n",
    "(TEXT=string ; INT=Integer)\n",
    "\n",
    "Bu işlemle eğer öyle bir tablomuz yoksa tablomuz oluşucak. Ama eğer kitaplık isminde bir tablo varsa python bize hata vericek.Hata almamak için:\n",
    "\n",
    "CREATE TABLE IF NOT EXISTS kitaplık (İsim TEXT,Yazar TEXT,Yayınevi TEXT,Sayfa_sayısı INT)\n",
    "\n",
    "\n",
    "\n",
    "\n"
   ]
  },
  {
   "cell_type": "markdown",
   "metadata": {},
   "source": [
    "Sqlite verileri büyük veya küçük harfle de çalışır doğru yazımı önemli.\n",
    "\n",
    "Ayrıca fonksiyon adı altında da yazmaya gerek yok.\n",
    "\n",
    "commit() fonk nunu en son da çalıştırabilirsin.\n"
   ]
  },
  {
   "cell_type": "markdown",
   "metadata": {},
   "source": [
    "Tabloya veri ekleme:\n",
    "\n",
    "insert into tablo_adı values(....,...,...)"
   ]
  },
  {
   "cell_type": "code",
   "execution_count": null,
   "metadata": {},
   "outputs": [
    {
     "data": {
      "text/plain": [
       "'import sqlite3\\ncon = sqlite3.connect(\"kütüphane.db\")\\ncursor = con.cursor() \\ndef tablo_olustur():\\n\\tcursor.execute(\"CREATE TABLE IF NOT EXISTS kitaplık (İsim TEXT,Yazar TEXT,Yayınevi TEXT,Sayfa_sayisi INT)\")\\n\\tcon.commit()\\ntablo_olustur()\\ncursor.execute(\"insert into kitaplık values (\\'Otomatik portakal\\',\\'Anthony Burgess\\',\\'everest\\',176)\")\\ncon.commit()\\ncon.close() '"
      ]
     },
     "execution_count": 1,
     "metadata": {},
     "output_type": "execute_result"
    }
   ],
   "source": [
    "import sqlite3\n",
    "con = sqlite3.connect(\"kütüphane.db\")\n",
    "cursor = con.cursor() \n",
    "def tablo_olustur():\n",
    "\tcursor.execute(\"CREATE TABLE IF NOT EXISTS kitaplık (İsim TEXT,Yazar TEXT,Yayınevi TEXT,Sayfa_sayisi INT)\")\n",
    "\tcon.commit()\n",
    "tablo_olustur()\n",
    "cursor.execute(\"insert into kitaplık values ('Otomatik portakal','Anthony Burgess','everest',176)\")\n",
    "con.commit()\n",
    "con.close() "
   ]
  },
  {
   "cell_type": "markdown",
   "metadata": {},
   "source": [
    "Veri bilgisi alıp ekleme örneği:\n"
   ]
  },
  {
   "cell_type": "code",
   "execution_count": null,
   "metadata": {},
   "outputs": [
    {
     "data": {
      "text/plain": [
       "'import sqlite3\\ncon = sqlite3.connect(\"kütüphane.db\")\\ncursor = con.cursor() \\ndef tablo_olustur():\\n\\tcursor.execute(\"CREATE TABLE IF NOT EXISTS kitaplık (İsim TEXT,Yazar TEXT,Yayınevi TEXT,Sayfa_sayisi INT)\")\\n\\tcon.commit()\\ntablo_olustur()\\ncursor.execute(\"insert into kitaplık values (\\'Otomatik portakal\\',\\'hatırlamıyorum\\',\\'everest\\',234)\")\\ncon.commit()\\n\\ndef veri_ekleme(isim,yazar,yayınevi,sayfa_sayısı):\\n\\tcursor.execute(\"insert into kitaplık values(?,?,?,?)\",(isim,yazar,yayınevi,sayfa_sayısı))\\n\\tcon.commit()\\nisim=input(\"kitabın ismi:\")\\nyazar=input(\"yazarı:\")\\nyayınevi=input(\"yayınevi:\")\\nsayfa_sayısı=int(input(\"sayfa sayısı:\"))\\nveri_ekleme(isim,yazar,yayınevi,sayfa_sayısı)\\ncon.close() '"
      ]
     },
     "execution_count": 2,
     "metadata": {},
     "output_type": "execute_result"
    }
   ],
   "source": [
    "import sqlite3\n",
    "con = sqlite3.connect(\"kütüphane.db\")\n",
    "cursor = con.cursor() \n",
    "\n",
    "def tablo_olustur():\n",
    "\tcursor.execute(\"CREATE TABLE IF NOT EXISTS kitaplık (İsim TEXT,Yazar TEXT,Yayınevi TEXT,Sayfa_sayisi INT)\")\n",
    "\tcon.commit()\n",
    "tablo_olustur()\n",
    "cursor.execute(\"insert into kitaplık values ('Otomatik portakal','Anthony Burgess','everest',176\")\n",
    "con.commit()\n",
    "\n",
    "def veri_ekleme(isim,yazar,yayınevi,sayfa_sayısı):\n",
    "\tcursor.execute(\"insert into kitaplık values(?,?,?,?)\",(isim,yazar,yayınevi,sayfa_sayısı))\n",
    "\tcon.commit()\n",
    "isim=input(\"kitabın ismi:\")\n",
    "yazar=input(\"yazarı:\")\n",
    "yayınevi=input(\"yayınevi:\")\n",
    "sayfa_sayısı=int(input(\"sayfa sayısı:\"))\n",
    "veri_ekleme(isim,yazar,yayınevi,sayfa_sayısı)\n",
    "con.close() \n"
   ]
  },
  {
   "cell_type": "markdown",
   "metadata": {},
   "source": [
    "Fonksiyon ile yazmak daha mantıklı olabilir çünkü aksi olunca programı her çalıştırdığında aynı şeyleri tekrar ekleyecek.\n",
    "\n",
    "Ama fonk larda hangisini çağırırsan ancak o çalışır."
   ]
  },
  {
   "cell_type": "code",
   "execution_count": null,
   "metadata": {},
   "outputs": [
    {
     "data": {
      "text/plain": [
       "'import sqlite3\\n#öncelikle bir bağlantı açmam  veya açık bir bağlantıya bağlanmam gerek.\\nbaglanti= sqlite3.connect(\"denemem.db\")\\n#denemem adında db uzantısında data base açtım.\\n#şimdi de imleç oluşturman lazım:\\ncursor=baglanti.cursor()\\n#şuana kadar olan kısım denemem.db yi oluşturmak için yeterli şimdi kapatmam lazım.(\"şundan sonrası execute ile komut vermedir.\")\\ndef tablo_yap():#fonksiyonumu olluşturdum.\\n\\tcursor.execute(\"create table if not exists tablo(isim text,soyisim text,yaş int,memleket text)\")\\n\\tbaglanti.commit()\\n#tablo_yap()#Bunu silip şimdi de değer verme fonk yapcam ama değerleri dışarıdan alsın.\\ndef deger(isim,soyisim,yaş,memleket):\\n\\tcursor.execute(\"insert into tablo values(?,?,?,?)\",(isim,soyisim,yaş,memleket))\\n\\tbaglanti.commit()\\n#deger(isim,soyisim,yaş,memleket)#değerleri girip çağır#aşağıya aldım çünkü henüz isim vs tanımlı değil.\\nisim=input(\"İsim:\")\\nsoyisim=input(\"Soyisim:\")\\nyaş=int(input(\"Yaş\"))\\nmemleket=input(\"Memleket:\")\\ndeger(isim,soyisim,yaş,memleket)#değerleri girip çağır\\nbaglanti.commit()#her işlemin olması için comit etmek zorundayım.#bu hep kalsın ve bunu fonk almama gerek yok çümkü her seferinde zaten bağlanmak zorundayım.\\nbaglanti.close()'"
      ]
     },
     "execution_count": 3,
     "metadata": {},
     "output_type": "execute_result"
    }
   ],
   "source": [
    "import sqlite3\n",
    "#öncelikle bir bağlantı açmam  veya açık bir bağlantıya bağlanmam gerek.\n",
    "baglanti= sqlite3.connect(\"denemem.db\")\n",
    "#denemem adında db uzantısında data base açtım.\n",
    "#şimdi de imleç oluşturman lazım:\n",
    "cursor=baglanti.cursor()\n",
    "#şuana kadar olan kısım denemem.db yi oluşturmak için yeterli şimdi kapatmam lazım.(\"şundan sonrası execute ile komut vermedir.\")\n",
    "def tablo_yap():#fonksiyonumu oluşturdum.\n",
    "\tcursor.execute(\"create table if not exists tablo(isim text,soyisim text,yaş int,memleket text)\")\n",
    "\tbaglanti.commit()\n",
    "#tablo_yap()\n",
    "def deger(isim,soyisim,yaş,memleket):\n",
    "\tcursor.execute(\"insert into tablo values(?,?,?,?)\",(isim,soyisim,yaş,memleket))\n",
    "\tbaglanti.commit()\n",
    "#deger(isim,soyisim,yaş,memleket)#değerleri girip çağır#aşağıya aldım çünkü henüz isim vs tanımlı değil.\n",
    "isim=input(\"İsim:\")\n",
    "soyisim=input(\"Soyisim:\")\n",
    "yaş=int(input(\"Yaş\"))\n",
    "memleket=input(\"Memleket:\")\n",
    "deger(isim,soyisim,yaş,memleket)#değerleri girip çağır\n",
    "baglanti.commit()#her işlemin olması için comit etmek zorundayım.#bu hep kalsın ve bunu fonk almama gerek yok çümkü her seferinde zaten bağlanmak zorundayım.\n",
    "baglanti.close()\n"
   ]
  },
  {
   "cell_type": "markdown",
   "metadata": {},
   "source": [
    "Tablodaki verileri çekme:"
   ]
  },
  {
   "cell_type": "markdown",
   "metadata": {},
   "source": [
    "Select * From kitaplık ==== Kitaplık tablosundki tüm verileri çeker.\n",
    "\n",
    "Select İsim,Yazar from kitaplık ==== Kitaplık tablosundaki her veriyi alır ancak Sadece isim ve yazarlarını.\n",
    "\n",
    "Select * From Kitaplık where Yayınevi='Everest' === Kitaplık tablosunda yayınevi everest olan satırları al demek.\n"
   ]
  },
  {
   "cell_type": "markdown",
   "metadata": {},
   "source": [
    "con.commit yapmana gerek yok sonuçta bir güncelleme söz konusu değil onun yerine cursor.fetchall ı listeye atayıp print(liste) yi bastır."
   ]
  },
  {
   "cell_type": "markdown",
   "metadata": {},
   "source": [
    "cursor.fetchall() === liste şeklinde döner bilgileri."
   ]
  },
  {
   "cell_type": "code",
   "execution_count": null,
   "metadata": {},
   "outputs": [
    {
     "data": {
      "text/plain": [
       "'import sqlite3\\ncon = sqlite3.connect(\"kütüphane.db\")\\ncursor = con.cursor() \\ndef tablo_olustur():\\n\\tcursor.execute(\"CREATE TABLE IF NOT EXISTS kitaplık (İsim TEXT,Yazar TEXT,Yayınevi TEXT,Sayfa_sayisi INT)\")\\n\\tcon.commit()\\ntablo_olustur()\\n#cursor.execute(\"insert into kitaplık values (\\'Otomatik portakal\\',\\'hatırlamıyorum\\',\\'everest\\',234)\")\\n#con.commit()\\n\\ndef veri_ekleme(isim,yazar,yayınevi,sayfa_sayısı):\\n\\tcursor.execute(\"insert into kitaplık values(?,?,?,?)\",(isim,yazar,yayınevi,sayfa_sayısı))\\n\\tcon.commit()\\n#isim=input(\"kitabın ismi:\")\\n#yazar=input(\"yazarı:\")\\n#yayınevi=input(\"yayınevi:\")\\n#sayfa_sayısı=int(input(\"sayfa sayısı:\"))\\n#veri_ekleme(isim,yazar,yayınevi,sayfa_sayısı)\\ndef veri_cekme():\\n\\tcursor.execute(\"Select * from kitaplık\")\\n\\tliste=cursor.fetchall()\\n\\tprint(\"Kitaplığın içeriği::\")\\n\\tfor i in liste:\\n\\t\\tprint(i)\\ndef veri_cekme2():\\n\\tcursor.execute(\"select İsim,Yazar from kitaplık\")\\n\\tlistee=cursor.fetchall()\\n\\tprint(\"Kitaplığın içeriği::\")\\n\\tfor i in listee:\\n\\t\\tprint(i)\\ndef veri_cekme3(İsim):\\n\\tcursor.execute(\"Select * from kitaplık where İsim=?\",(İsim,))\\n\\tlistem=cursor.fetchall()\\n\\tprint(\"Kitaplığın içeriği::\")\\n\\tfor i in listem:\\n\\t\\tprint(i)\\ndef veri_cekme4(İsim):\\n\\tcursor.execute(\"Select Yazar,Yayınevi from kitaplık where İsim=?\",(İsim,))\\n\\tlistem=cursor.fetchall()\\n\\tprint(\"Kitaplığın içeriği::\")\\n\\tfor i in listem:\\n\\t\\tprint(i)\\t\\t\\nveri_cekme4(\"Otomatik portakal\")\\n\\t\\ncon.close() '"
      ]
     },
     "execution_count": 4,
     "metadata": {},
     "output_type": "execute_result"
    }
   ],
   "source": [
    "import sqlite3\n",
    "con = sqlite3.connect(\"kütüphane.db\")\n",
    "cursor = con.cursor() \n",
    "def tablo_olustur():\n",
    "\tcursor.execute(\"CREATE TABLE IF NOT EXISTS kitaplık (İsim TEXT,Yazar TEXT,Yayınevi TEXT,Sayfa_sayisi INT)\")\n",
    "\tcon.commit()\n",
    "tablo_olustur()\n",
    "#cursor.execute(\"insert into kitaplık values ('Otomatik portakal','hatırlamıyorum','everest',234)\")\n",
    "#con.commit()\n",
    "\n",
    "def veri_ekleme(isim,yazar,yayınevi,sayfa_sayısı):\n",
    "\tcursor.execute(\"insert into kitaplık values(?,?,?,?)\",(isim,yazar,yayınevi,sayfa_sayısı))\n",
    "\tcon.commit()\n",
    "#isim=input(\"kitabın ismi:\")\n",
    "#yazar=input(\"yazarı:\")\n",
    "#yayınevi=input(\"yayınevi:\")\n",
    "#sayfa_sayısı=int(input(\"sayfa sayısı:\"))\n",
    "#veri_ekleme(isim,yazar,yayınevi,sayfa_sayısı)\n",
    "def veri_cekme():\n",
    "\tcursor.execute(\"Select * from kitaplık\")\n",
    "\tliste=cursor.fetchall()\n",
    "\tprint(\"Kitaplığın içeriği::\")\n",
    "\tfor i in liste:\n",
    "\t\tprint(i)\n",
    "def veri_cekme2():\n",
    "\tcursor.execute(\"select İsim,Yazar from kitaplık\")\n",
    "\tlistee=cursor.fetchall()\n",
    "\tprint(\"Kitaplığın içeriği::\")\n",
    "\tfor i in listee:\n",
    "\t\tprint(i)\n",
    "def veri_cekme3(İsim):\n",
    "\tcursor.execute(\"Select * from kitaplık where İsim=?\",(İsim,))\n",
    "\tlistem=cursor.fetchall()\n",
    "\tprint(\"Kitaplığın içeriği::\")\n",
    "\tfor i in listem:\n",
    "\t\tprint(i)\n",
    "def veri_cekme4(İsim):\n",
    "\tcursor.execute(\"Select Yazar,Yayınevi from kitaplık where İsim=?\",(İsim,))\n",
    "\tlistem=cursor.fetchall()\n",
    "\tprint(\"Kitaplığın içeriği::\")\n",
    "\tfor i in listem:\n",
    "\t\tprint(i)\t\t\n",
    "veri_cekme4(\"Otomatik portakal\")\n",
    "\t\n",
    "con.close() "
   ]
  },
  {
   "cell_type": "code",
   "execution_count": null,
   "metadata": {},
   "outputs": [
    {
     "data": {
      "text/plain": [
       "'import sqlite3\\n#öncelikle bir bağlantı açmam  veya açık bir bağlantıya bağlanmam gerek.\\nbaglanti= sqlite3.connect(\"denemem.db\")\\n#denemem adında db uzantısında data base açtım.\\n#şimdi de imleç oluşturman lazım:\\ncursor=baglanti.cursor()\\n#şuana kadar olan kısım denemem.db yi oluşturmak için yeterli şimdi kapatmam lazım.(\"şundan sonrası execute ile komut vermedir.\")\\ndef tablo_yap():#fonksiyonumu olluşturdum.\\n\\tcursor.execute(\"create table if not exists tablo(isim text,soyisim text,yaş int,memleket text)\")\\n\\tbaglanti.commit()\\n#tablo_yap()#Bunu silip şimdi de değer verme fonk yapcam ama değerleri dışarıdan alsın.\\ndef deger(isim,soyisim,yaş,memleket):\\n\\tcursor.execute(\"insert into tablo values(?,?,?,?)\",(isim,soyisim,yaş,memleket))\\n\\tbaglanti.commit()\\n#deger(isim,soyisim,yaş,memleket)#değerleri girip çağır#aşağıya aldım çünkü henüz isim vs tanımlı değil.\\n#isim=input(\"İsim:\")\\n#soyisim=input(\"Soyisim:\")\\n#yaş=int(input(\"Yaş\"))\\n#memleket=input(\"Memleket:\")\\n#deger(isim,soyisim,yaş,memleket)#değerleri girip çağır\\ndef veri_cek():\\n\\tcursor.execute(\"select * from tablo\")\\n\\tliste=cursor.fetchall()\\n\\tprint(\"BİLGİLER....\")\\n\\tfor i in liste:#baglanti.commit demicem çünkü bir ekleme güncelleme söz konusu değil\\n\\t\\tprint(i)\\ndef veri_cek2():\\n\\tcursor.execute(\"select isim,soyisim from tablo\")\\n\\tlistem=cursor.fetchall()\\n\\tprint(\"BİLGİLER....\")\\n\\tfor i in listem:\\n\\t\\tprint(i)\\t#\\n\\ncursor.execute(\"select isim,soyisim,yaş from tablo where isim=\\'Esma\\'\")\\nlistee=cursor.fetchall()\\nfor i in listee:\\n\\tprint(i)\\n\\t\\t\\nbaglanti.commit()#her işlemin olması için comit etmek zorundayım.#bu hep kalsın ve bunu fonk almama gerek yok çümkü her seferinde zaten bağlanmak zorundayım.\\nbaglanti.close()\\n'"
      ]
     },
     "execution_count": 1,
     "metadata": {},
     "output_type": "execute_result"
    }
   ],
   "source": [
    "import sqlite3\n",
    "#öncelikle bir bağlantı açmam  veya açık bir bağlantıya bağlanmam gerek.\n",
    "baglanti= sqlite3.connect(\"denemem.db\")\n",
    "#denemem adında db uzantısında data base açtım.\n",
    "#şimdi de imleç oluşturman lazım:\n",
    "cursor=baglanti.cursor()\n",
    "#şuana kadar olan kısım denemem.db yi oluşturmak için yeterli şimdi kapatmam lazım.(\"şundan sonrası execute ile komut vermedir.\")\n",
    "def tablo_yap():#fonksiyonumu olluşturdum.\n",
    "\tcursor.execute(\"create table if not exists tablo(isim text,soyisim text,yaş int,memleket text)\")\n",
    "\tbaglanti.commit()\n",
    "#tablo_yap()#Bunu silip şimdi de değer verme fonk yapcam ama değerleri dışarıdan alsın.\n",
    "def deger(isim,soyisim,yaş,memleket):\n",
    "\tcursor.execute(\"insert into tablo values(?,?,?,?)\",(isim,soyisim,yaş,memleket))\n",
    "\tbaglanti.commit()\n",
    "#deger(isim,soyisim,yaş,memleket)#değerleri girip çağır#aşağıya aldım çünkü henüz isim vs tanımlı değil.\n",
    "#isim=input(\"İsim:\")\n",
    "#soyisim=input(\"Soyisim:\")\n",
    "#yaş=int(input(\"Yaş\"))\n",
    "#memleket=input(\"Memleket:\")\n",
    "#deger(isim,soyisim,yaş,memleket)#değerleri girip çağır\n",
    "def veri_cek():\n",
    "\tcursor.execute(\"select * from tablo\")\n",
    "\tliste=cursor.fetchall()\n",
    "\tprint(\"BİLGİLER....\")\n",
    "\tfor i in liste:#baglanti.commit demicem çünkü bir ekleme güncelleme söz konusu değil\n",
    "\t\tprint(i)\n",
    "def veri_cek2():\n",
    "\tcursor.execute(\"select isim,soyisim from tablo\")\n",
    "\tlistem=cursor.fetchall()\n",
    "\tprint(\"BİLGİLER....\")\n",
    "\tfor i in listem:\n",
    "\t\tprint(i)\t#\n",
    "\n",
    "cursor.execute(\"select isim,soyisim,yaş from tablo where isim='Esma'\")\n",
    "listee=cursor.fetchall()\n",
    "for i in listee:\n",
    "\tprint(i)\n",
    "\t\t\n",
    "baglanti.commit()#her işlemin olması için comit etmek zorundayım.#bu hep kalsın ve bunu fonk almama gerek yok çümkü her seferinde zaten bağlanmak zorundayım.\n",
    "baglanti.close()\n"
   ]
  },
  {
   "cell_type": "markdown",
   "metadata": {},
   "source": [
    "Tablodaki verileri silme ve güncelleme:\n"
   ]
  },
  {
   "cell_type": "markdown",
   "metadata": {},
   "source": [
    "Update kitaplık set Yayınevi=\"Everest\" where Yayınevi=\"Doğan kitap\"===Yayınevi doğan kitap olan verilerin yayınevini evereste güncelle demek."
   ]
  },
  {
   "cell_type": "markdown",
   "metadata": {},
   "source": [
    "cursor.execute(\"update kitaplık set Yazar='Gülten Dayıoğlu' where Yazar='Anthony Burgess' \")\n",
    "\n",
    "con.commit()\n"
   ]
  },
  {
   "cell_type": "markdown",
   "metadata": {},
   "source": [
    "cursor.execute(\"Delete from kitaplık where Yazar=\"Ahmet Ümit\")=====yazarı ahmet ümit olan verileri sil."
   ]
  },
  {
   "cell_type": "code",
   "execution_count": null,
   "metadata": {},
   "outputs": [],
   "source": [
    "import sqlite3\n",
    "\n",
    "con = sqlite3.connect(\"kütüphane.db\")\n",
    "\n",
    "cursor = con.cursor()\n",
    "def tablo_olustur():\n",
    "    cursor.execute(\"CREATE TABLE IF NOT EXISTS kitaplık (İsim TEXT,Yazar TEXT,Yayınevi TEXT,Sayfa_Sayısı INT)\")\n",
    "    con.commit()\n",
    "def veri_ekle():\n",
    "    cursor.execute(\"Insert into kitaplık Values('İstanbul Hatırası','Ahmet Ümit','Everest',561)\")\n",
    "    con.commit()\n",
    "def veri_ekle2(isim,yazar,yayınevi,sayfa_sayısı):\n",
    "    cursor.execute(\"Insert into kitaplık Values(?,?,?,?)\",(isim,yazar,yayınevi,sayfa_sayısı))\n",
    "    con.commit()\n",
    "def verileri_al():\n",
    "    cursor.execute(\"Select * From kitaplık\")\n",
    "    liste = cursor.fetchall()\n",
    "    print(\"Kitaplık tablosunun bilgileri...\")\n",
    "    for i in liste:\n",
    "        print(i)\n",
    "   \n",
    "def verileri_al2():\n",
    "    cursor.execute(\"Select İsim,Yazar From kitaplık\")\n",
    "    liste = cursor.fetchall()\n",
    "    print(\"Kitaplık tablosunun bilgileri...\")\n",
    "    for i in liste:\n",
    "        print(i)\n",
    "def verileri_al3(yayınevi):\n",
    "    cursor.execute(\"Select * From kitaplık where Yayınevi = ?\",(yayınevi,))\n",
    "    liste = cursor.fetchall()\n",
    "    print(\"Kitaplık tablosunun bilgileri...\")\n",
    "    for i in liste:\n",
    "        print(i)\n",
    "def verileriguncelle(eski_yayınevi,yeni_yayınevi):\n",
    "    cursor.execute(\"Update kitaplık set Yayınevi = ? where Yayınevi = ?\",(yeni_yayınevi,eski_yayınevi))\n",
    "    con.commit()\n",
    "def verilerisil(yazar):\n",
    "    cursor.execute(\"Delete From kitaplık where Yazar = ?\",(yazar,))\n",
    "    con.commit()\n",
    "    \n",
    "verileri_al()\n",
    "con.close()"
   ]
  }
 ],
 "metadata": {
  "kernelspec": {
   "display_name": "Python 3",
   "language": "python",
   "name": "python3"
  },
  "language_info": {
   "codemirror_mode": {
    "name": "ipython",
    "version": 3
   },
   "file_extension": ".py",
   "mimetype": "text/x-python",
   "name": "python",
   "nbconvert_exporter": "python",
   "pygments_lexer": "ipython3",
   "version": "3.12.8"
  }
 },
 "nbformat": 4,
 "nbformat_minor": 2
}
