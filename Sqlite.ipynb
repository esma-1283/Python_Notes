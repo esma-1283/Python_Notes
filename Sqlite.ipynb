{
 "cells": [
  {
   "cell_type": "markdown",
   "metadata": {},
   "source": [
    "## Sqlite Veritabanı"
   ]
  },
  {
   "cell_type": "markdown",
   "metadata": {},
   "source": [
    "Sunucusuz bir veri tabanıdır."
   ]
  },
  {
   "cell_type": "markdown",
   "metadata": {},
   "source": [
    "import sqlite3 == Sqlite ı dahil ediyoruz.\n",
    "\n",
    "con = sqlite3.connect(\"kütüphane.db\") == Tabloya bağlanıyoruz.#Değişken\n",
    "\n",
    "cursor = con.cursor() == Veri tabanı üzerinde işlem yapmak için kullanacağımız imleç olucak cursor.#Değişken\n",
    "\n",
    "con.close()  == Bağlantıyı kapatıyoruz."
   ]
  },
  {
   "cell_type": "markdown",
   "metadata": {},
   "source": [
    "con = sqlite3.connect(\"kütüphane.db\"):\n",
    "\n",
    "Bulunduğum dizinde kütüphane.db adında bir veri tabanı yoksa oluşturucak ve bağlanacak.\n",
    "\n",
    "Eğer varsa sadece bağlanacak.\n",
    "\n",
    "cursor = con.cursor():\n",
    "\n",
    "Database imiz üzerindeki tüm işlemleri cursor üzerinden yapacağız.\n",
    "\n",
    "con.close():\n",
    "\n",
    "Dosyalar gibi işlemimiz bitince kapatmamız gerekiyor.\n",
    "\n",
    "\n",
    "\n"
   ]
  },
  {
   "cell_type": "markdown",
   "metadata": {},
   "source": [
    "Veri tabanında kitaplık adında bir tablo oluşturmak için 2 sorgudan biri kullanılabilir:\n",
    "\n",
    "CREATE TABLE kitaplık (İsim TEXT,Yazar TEXT,Yayınevi TEXT,Sayfa_sayısı INT)\n",
    "\n",
    "(TEXT=string ; INT=Integer)\n",
    "\n",
    "Bu işlemle eğer öyle bir tablomuz yoksa tablomuz oluşucak. Ama eğer kitaplık isminde bir tablo varsa python bize hata vericek.Hata almamak için:\n",
    "\n",
    "CREATE TABLE IF NOT EXISTS kitaplık (İsim TEXT,Yazar TEXT,Yayınevi TEXT,Sayfa_sayısı INT)\n",
    "\n",
    "\n",
    "\n",
    "\n"
   ]
  },
  {
   "cell_type": "markdown",
   "metadata": {},
   "source": [
    "Sqlite verileri büyük veya küçük harfle de çalışır doğru yaz yeter.\n",
    "\n",
    "Ayrıca fonksiyon adı altında da yazmana gerek yok\n",
    "\n",
    "commit() fonk nunu en son da çalıştırabilirsin.\n"
   ]
  },
  {
   "cell_type": "markdown",
   "metadata": {},
   "source": [
    "Tabloya veri ekleme:\n",
    "\n",
    "insert into tablo_adı values(....,...,...)"
   ]
  },
  {
   "cell_type": "code",
   "execution_count": 1,
   "metadata": {},
   "outputs": [
    {
     "data": {
      "text/plain": [
       "'import sqlite3\\ncon = sqlite3.connect(\"kütüphane.db\")\\ncursor = con.cursor() \\ndef tablo_olustur():\\n\\tcursor.execute(\"CREATE TABLE IF NOT EXISTS kitaplık (İsim TEXT,Yazar TEXT,Yayınevi TEXT,Sayfa_sayisi INT)\")\\n\\tcon.commit()\\ntablo_olustur()\\ncursor.execute(\"insert into kitaplık values (\\'Otomatik portakal\\',\\'hatırlamıyorum\\',\\'everest\\',234)\")\\ncon.commit()\\ncon.close() '"
      ]
     },
     "execution_count": 1,
     "metadata": {},
     "output_type": "execute_result"
    }
   ],
   "source": [
    "\"\"\"import sqlite3\n",
    "con = sqlite3.connect(\"kütüphane.db\")\n",
    "cursor = con.cursor() \n",
    "def tablo_olustur():\n",
    "\tcursor.execute(\"CREATE TABLE IF NOT EXISTS kitaplık (İsim TEXT,Yazar TEXT,Yayınevi TEXT,Sayfa_sayisi INT)\")\n",
    "\tcon.commit()\n",
    "tablo_olustur()\n",
    "cursor.execute(\"insert into kitaplık values ('Otomatik portakal','hatırlamıyorum','everest',234)\")\n",
    "con.commit()\n",
    "con.close() \"\"\""
   ]
  },
  {
   "cell_type": "markdown",
   "metadata": {},
   "source": [
    "Veri bilgisi alıp ekleme örneği:\n"
   ]
  },
  {
   "cell_type": "code",
   "execution_count": 2,
   "metadata": {},
   "outputs": [
    {
     "data": {
      "text/plain": [
       "'import sqlite3\\ncon = sqlite3.connect(\"kütüphane.db\")\\ncursor = con.cursor() \\ndef tablo_olustur():\\n\\tcursor.execute(\"CREATE TABLE IF NOT EXISTS kitaplık (İsim TEXT,Yazar TEXT,Yayınevi TEXT,Sayfa_sayisi INT)\")\\n\\tcon.commit()\\ntablo_olustur()\\ncursor.execute(\"insert into kitaplık values (\\'Otomatik portakal\\',\\'hatırlamıyorum\\',\\'everest\\',234)\")\\ncon.commit()\\n\\ndef veri_ekleme(isim,yazar,yayınevi,sayfa_sayısı):\\n\\tcursor.execute(\"insert into kitaplık values(?,?,?,?)\",(isim,yazar,yayınevi,sayfa_sayısı))\\n\\tcon.commit()\\nisim=input(\"kitabın ismi:\")\\nyazar=input(\"yazarı:\")\\nyayınevi=input(\"yayınevi:\")\\nsayfa_sayısı=int(input(\"sayfa sayısı:\"))\\nveri_ekleme(isim,yazar,yayınevi,sayfa_sayısı)\\ncon.close() '"
      ]
     },
     "execution_count": 2,
     "metadata": {},
     "output_type": "execute_result"
    }
   ],
   "source": [
    "\"\"\"import sqlite3\n",
    "con = sqlite3.connect(\"kütüphane.db\")\n",
    "cursor = con.cursor() \n",
    "def tablo_olustur():\n",
    "\tcursor.execute(\"CREATE TABLE IF NOT EXISTS kitaplık (İsim TEXT,Yazar TEXT,Yayınevi TEXT,Sayfa_sayisi INT)\")\n",
    "\tcon.commit()\n",
    "tablo_olustur()\n",
    "cursor.execute(\"insert into kitaplık values ('Otomatik portakal','hatırlamıyorum','everest',234)\")\n",
    "con.commit()\n",
    "\n",
    "def veri_ekleme(isim,yazar,yayınevi,sayfa_sayısı):\n",
    "\tcursor.execute(\"insert into kitaplık values(?,?,?,?)\",(isim,yazar,yayınevi,sayfa_sayısı))\n",
    "\tcon.commit()\n",
    "isim=input(\"kitabın ismi:\")\n",
    "yazar=input(\"yazarı:\")\n",
    "yayınevi=input(\"yayınevi:\")\n",
    "sayfa_sayısı=int(input(\"sayfa sayısı:\"))\n",
    "veri_ekleme(isim,yazar,yayınevi,sayfa_sayısı)\n",
    "con.close() \"\"\"\n"
   ]
  },
  {
   "cell_type": "markdown",
   "metadata": {},
   "source": [
    "Fonksiyon ile yazmak daha mantıklı geldi çünkü aksi olunca programı her çalıştırdığında aynı şeyleri tekrar ekleyecek.\n",
    "\n",
    "Ama fonk larda hangisini çağırırsan ancak o çalışır."
   ]
  },
  {
   "cell_type": "code",
   "execution_count": 3,
   "metadata": {},
   "outputs": [
    {
     "data": {
      "text/plain": [
       "'import sqlite3\\n#öncelikle bir bağlantı açmam  veya açık bir bağlantıya bağlanmam gerek.\\nbaglanti= sqlite3.connect(\"denemem.db\")\\n#denemem adında db uzantısında data base açtım.\\n#şimdi de imleç oluşturman lazım:\\ncursor=baglanti.cursor()\\n#şuana kadar olan kısım denemem.db yi oluşturmak için yeterli şimdi kapatmam lazım.(\"şundan sonrası execute ile komut vermedir.\")\\ndef tablo_yap():#fonksiyonumu olluşturdum.\\n\\tcursor.execute(\"create table if not exists tablo(isim text,soyisim text,yaş int,memleket text)\")\\n\\tbaglanti.commit()\\n#tablo_yap()#Bunu silip şimdi de değer verme fonk yapcam ama değerleri dışarıdan alsın.\\ndef deger(isim,soyisim,yaş,memleket):\\n\\tcursor.execute(\"insert into tablo values(?,?,?,?)\",(isim,soyisim,yaş,memleket))\\n\\tbaglanti.commit()\\n#deger(isim,soyisim,yaş,memleket)#değerleri girip çağır#aşağıya aldım çünkü henüz isim vs tanımlı değil.\\nisim=input(\"İsim:\")\\nsoyisim=input(\"Soyisim:\")\\nyaş=int(input(\"Yaş\"))\\nmemleket=input(\"Memleket:\")\\ndeger(isim,soyisim,yaş,memleket)#değerleri girip çağır\\nbaglanti.commit()#her işlemin olması için comit etmek zorundayım.#bu hep kalsın ve bunu fonk almama gerek yok çümkü her seferinde zaten bağlanmak zorundayım.\\nbaglanti.close()'"
      ]
     },
     "execution_count": 3,
     "metadata": {},
     "output_type": "execute_result"
    }
   ],
   "source": [
    "\"\"\"import sqlite3\n",
    "#öncelikle bir bağlantı açmam  veya açık bir bağlantıya bağlanmam gerek.\n",
    "baglanti= sqlite3.connect(\"denemem.db\")\n",
    "#denemem adında db uzantısında data base açtım.\n",
    "#şimdi de imleç oluşturman lazım:\n",
    "cursor=baglanti.cursor()\n",
    "#şuana kadar olan kısım denemem.db yi oluşturmak için yeterli şimdi kapatmam lazım.(\"şundan sonrası execute ile komut vermedir.\")\n",
    "def tablo_yap():#fonksiyonumu olluşturdum.\n",
    "\tcursor.execute(\"create table if not exists tablo(isim text,soyisim text,yaş int,memleket text)\")\n",
    "\tbaglanti.commit()\n",
    "#tablo_yap()#Bunu silip şimdi de değer verme fonk yapcam ama değerleri dışarıdan alsın.\n",
    "def deger(isim,soyisim,yaş,memleket):\n",
    "\tcursor.execute(\"insert into tablo values(?,?,?,?)\",(isim,soyisim,yaş,memleket))\n",
    "\tbaglanti.commit()\n",
    "#deger(isim,soyisim,yaş,memleket)#değerleri girip çağır#aşağıya aldım çünkü henüz isim vs tanımlı değil.\n",
    "isim=input(\"İsim:\")\n",
    "soyisim=input(\"Soyisim:\")\n",
    "yaş=int(input(\"Yaş\"))\n",
    "memleket=input(\"Memleket:\")\n",
    "deger(isim,soyisim,yaş,memleket)#değerleri girip çağır\n",
    "baglanti.commit()#her işlemin olması için comit etmek zorundayım.#bu hep kalsın ve bunu fonk almama gerek yok çümkü her seferinde zaten bağlanmak zorundayım.\n",
    "baglanti.close()\"\"\"\n"
   ]
  },
  {
   "cell_type": "markdown",
   "metadata": {},
   "source": [
    "Tablodaki verileri çekme:"
   ]
  },
  {
   "cell_type": "markdown",
   "metadata": {},
   "source": [
    "Select * From kitaplık ==== Kitaplık tablosundki tüm verileri çeker.\n",
    "\n",
    "Select İsim,Yazar from kitaplık ==== Kitaplık tablosundaki her veriyi alır ancak Sadece isim ve yazarlarını.\n",
    "\n",
    "Select * From Kitaplık where Yayınevi='Everest' === Kitaplık tablosunda yayınevi everest olan satırları al demek.\n"
   ]
  },
  {
   "cell_type": "markdown",
   "metadata": {},
   "source": [
    "con.commit yapmana gerek yok sonuçta bir güncelleme söz konusu değil onun yerine cursor.fetchall ı listeye atayıp print(liste) yi bastır."
   ]
  },
  {
   "cell_type": "markdown",
   "metadata": {},
   "source": [
    "cursor.fetchall() === liste şeklinde döner bilgileri."
   ]
  },
  {
   "cell_type": "code",
   "execution_count": 4,
   "metadata": {},
   "outputs": [
    {
     "data": {
      "text/plain": [
       "'import sqlite3\\ncon = sqlite3.connect(\"kütüphane.db\")\\ncursor = con.cursor() \\ndef tablo_olustur():\\n\\tcursor.execute(\"CREATE TABLE IF NOT EXISTS kitaplık (İsim TEXT,Yazar TEXT,Yayınevi TEXT,Sayfa_sayisi INT)\")\\n\\tcon.commit()\\ntablo_olustur()\\n#cursor.execute(\"insert into kitaplık values (\\'Otomatik portakal\\',\\'hatırlamıyorum\\',\\'everest\\',234)\")\\n#con.commit()\\n\\ndef veri_ekleme(isim,yazar,yayınevi,sayfa_sayısı):\\n\\tcursor.execute(\"insert into kitaplık values(?,?,?,?)\",(isim,yazar,yayınevi,sayfa_sayısı))\\n\\tcon.commit()\\n#isim=input(\"kitabın ismi:\")\\n#yazar=input(\"yazarı:\")\\n#yayınevi=input(\"yayınevi:\")\\n#sayfa_sayısı=int(input(\"sayfa sayısı:\"))\\n#veri_ekleme(isim,yazar,yayınevi,sayfa_sayısı)\\ndef veri_cekme():\\n\\tcursor.execute(\"Select * from kitaplık\")\\n\\tliste=cursor.fetchall()\\n\\tprint(\"Kitaplığın içeriği::\")\\n\\tfor i in liste:\\n\\t\\tprint(i)\\ndef veri_cekme2():\\n\\tcursor.execute(\"select İsim,Yazar from kitaplık\")\\n\\tlistee=cursor.fetchall()\\n\\tprint(\"Kitaplığın içeriği::\")\\n\\tfor i in listee:\\n\\t\\tprint(i)\\ndef veri_cekme3(İsim):\\n\\tcursor.execute(\"Select * from kitaplık where İsim=?\",(İsim,))\\n\\tlistem=cursor.fetchall()\\n\\tprint(\"Kitaplığın içeriği::\")\\n\\tfor i in listem:\\n\\t\\tprint(i)\\ndef veri_cekme4(İsim):\\n\\tcursor.execute(\"Select Yazar,Yayınevi from kitaplık where İsim=?\",(İsim,))\\n\\tlistem=cursor.fetchall()\\n\\tprint(\"Kitaplığın içeriği::\")\\n\\tfor i in listem:\\n\\t\\tprint(i)\\t\\t\\nveri_cekme4(\"Otomatik portakal\")\\n\\t\\ncon.close() '"
      ]
     },
     "execution_count": 4,
     "metadata": {},
     "output_type": "execute_result"
    }
   ],
   "source": [
    "\"\"\"import sqlite3\n",
    "con = sqlite3.connect(\"kütüphane.db\")\n",
    "cursor = con.cursor() \n",
    "def tablo_olustur():\n",
    "\tcursor.execute(\"CREATE TABLE IF NOT EXISTS kitaplık (İsim TEXT,Yazar TEXT,Yayınevi TEXT,Sayfa_sayisi INT)\")\n",
    "\tcon.commit()\n",
    "tablo_olustur()\n",
    "#cursor.execute(\"insert into kitaplık values ('Otomatik portakal','hatırlamıyorum','everest',234)\")\n",
    "#con.commit()\n",
    "\n",
    "def veri_ekleme(isim,yazar,yayınevi,sayfa_sayısı):\n",
    "\tcursor.execute(\"insert into kitaplık values(?,?,?,?)\",(isim,yazar,yayınevi,sayfa_sayısı))\n",
    "\tcon.commit()\n",
    "#isim=input(\"kitabın ismi:\")\n",
    "#yazar=input(\"yazarı:\")\n",
    "#yayınevi=input(\"yayınevi:\")\n",
    "#sayfa_sayısı=int(input(\"sayfa sayısı:\"))\n",
    "#veri_ekleme(isim,yazar,yayınevi,sayfa_sayısı)\n",
    "def veri_cekme():\n",
    "\tcursor.execute(\"Select * from kitaplık\")\n",
    "\tliste=cursor.fetchall()\n",
    "\tprint(\"Kitaplığın içeriği::\")\n",
    "\tfor i in liste:\n",
    "\t\tprint(i)\n",
    "def veri_cekme2():\n",
    "\tcursor.execute(\"select İsim,Yazar from kitaplık\")\n",
    "\tlistee=cursor.fetchall()\n",
    "\tprint(\"Kitaplığın içeriği::\")\n",
    "\tfor i in listee:\n",
    "\t\tprint(i)\n",
    "def veri_cekme3(İsim):\n",
    "\tcursor.execute(\"Select * from kitaplık where İsim=?\",(İsim,))\n",
    "\tlistem=cursor.fetchall()\n",
    "\tprint(\"Kitaplığın içeriği::\")\n",
    "\tfor i in listem:\n",
    "\t\tprint(i)\n",
    "def veri_cekme4(İsim):\n",
    "\tcursor.execute(\"Select Yazar,Yayınevi from kitaplık where İsim=?\",(İsim,))\n",
    "\tlistem=cursor.fetchall()\n",
    "\tprint(\"Kitaplığın içeriği::\")\n",
    "\tfor i in listem:\n",
    "\t\tprint(i)\t\t\n",
    "veri_cekme4(\"Otomatik portakal\")\n",
    "\t\n",
    "con.close() \"\"\""
   ]
  },
  {
   "cell_type": "code",
   "execution_count": 1,
   "metadata": {},
   "outputs": [
    {
     "data": {
      "text/plain": [
       "'import sqlite3\\n#öncelikle bir bağlantı açmam  veya açık bir bağlantıya bağlanmam gerek.\\nbaglanti= sqlite3.connect(\"denemem.db\")\\n#denemem adında db uzantısında data base açtım.\\n#şimdi de imleç oluşturman lazım:\\ncursor=baglanti.cursor()\\n#şuana kadar olan kısım denemem.db yi oluşturmak için yeterli şimdi kapatmam lazım.(\"şundan sonrası execute ile komut vermedir.\")\\ndef tablo_yap():#fonksiyonumu olluşturdum.\\n\\tcursor.execute(\"create table if not exists tablo(isim text,soyisim text,yaş int,memleket text)\")\\n\\tbaglanti.commit()\\n#tablo_yap()#Bunu silip şimdi de değer verme fonk yapcam ama değerleri dışarıdan alsın.\\ndef deger(isim,soyisim,yaş,memleket):\\n\\tcursor.execute(\"insert into tablo values(?,?,?,?)\",(isim,soyisim,yaş,memleket))\\n\\tbaglanti.commit()\\n#deger(isim,soyisim,yaş,memleket)#değerleri girip çağır#aşağıya aldım çünkü henüz isim vs tanımlı değil.\\n#isim=input(\"İsim:\")\\n#soyisim=input(\"Soyisim:\")\\n#yaş=int(input(\"Yaş\"))\\n#memleket=input(\"Memleket:\")\\n#deger(isim,soyisim,yaş,memleket)#değerleri girip çağır\\ndef veri_cek():\\n\\tcursor.execute(\"select * from tablo\")\\n\\tliste=cursor.fetchall()\\n\\tprint(\"BİLGİLER....\")\\n\\tfor i in liste:#baglanti.commit demicem çünkü bir ekleme güncelleme söz konusu değil\\n\\t\\tprint(i)\\ndef veri_cek2():\\n\\tcursor.execute(\"select isim,soyisim from tablo\")\\n\\tlistem=cursor.fetchall()\\n\\tprint(\"BİLGİLER....\")\\n\\tfor i in listem:\\n\\t\\tprint(i)\\t#\\n\\ncursor.execute(\"select isim,soyisim,yaş from tablo where isim=\\'Esma\\'\")\\nlistee=cursor.fetchall()\\nfor i in listee:\\n\\tprint(i)\\n\\t\\t\\nbaglanti.commit()#her işlemin olması için comit etmek zorundayım.#bu hep kalsın ve bunu fonk almama gerek yok çümkü her seferinde zaten bağlanmak zorundayım.\\nbaglanti.close()\\n'"
      ]
     },
     "execution_count": 1,
     "metadata": {},
     "output_type": "execute_result"
    }
   ],
   "source": [
    "\"\"\"import sqlite3\n",
    "#öncelikle bir bağlantı açmam  veya açık bir bağlantıya bağlanmam gerek.\n",
    "baglanti= sqlite3.connect(\"denemem.db\")\n",
    "#denemem adında db uzantısında data base açtım.\n",
    "#şimdi de imleç oluşturman lazım:\n",
    "cursor=baglanti.cursor()\n",
    "#şuana kadar olan kısım denemem.db yi oluşturmak için yeterli şimdi kapatmam lazım.(\"şundan sonrası execute ile komut vermedir.\")\n",
    "def tablo_yap():#fonksiyonumu olluşturdum.\n",
    "\tcursor.execute(\"create table if not exists tablo(isim text,soyisim text,yaş int,memleket text)\")\n",
    "\tbaglanti.commit()\n",
    "#tablo_yap()#Bunu silip şimdi de değer verme fonk yapcam ama değerleri dışarıdan alsın.\n",
    "def deger(isim,soyisim,yaş,memleket):\n",
    "\tcursor.execute(\"insert into tablo values(?,?,?,?)\",(isim,soyisim,yaş,memleket))\n",
    "\tbaglanti.commit()\n",
    "#deger(isim,soyisim,yaş,memleket)#değerleri girip çağır#aşağıya aldım çünkü henüz isim vs tanımlı değil.\n",
    "#isim=input(\"İsim:\")\n",
    "#soyisim=input(\"Soyisim:\")\n",
    "#yaş=int(input(\"Yaş\"))\n",
    "#memleket=input(\"Memleket:\")\n",
    "#deger(isim,soyisim,yaş,memleket)#değerleri girip çağır\n",
    "def veri_cek():\n",
    "\tcursor.execute(\"select * from tablo\")\n",
    "\tliste=cursor.fetchall()\n",
    "\tprint(\"BİLGİLER....\")\n",
    "\tfor i in liste:#baglanti.commit demicem çünkü bir ekleme güncelleme söz konusu değil\n",
    "\t\tprint(i)\n",
    "def veri_cek2():\n",
    "\tcursor.execute(\"select isim,soyisim from tablo\")\n",
    "\tlistem=cursor.fetchall()\n",
    "\tprint(\"BİLGİLER....\")\n",
    "\tfor i in listem:\n",
    "\t\tprint(i)\t#\n",
    "\n",
    "cursor.execute(\"select isim,soyisim,yaş from tablo where isim='Esma'\")\n",
    "listee=cursor.fetchall()\n",
    "for i in listee:\n",
    "\tprint(i)\n",
    "\t\t\n",
    "baglanti.commit()#her işlemin olması için comit etmek zorundayım.#bu hep kalsın ve bunu fonk almama gerek yok çümkü her seferinde zaten bağlanmak zorundayım.\n",
    "baglanti.close()\n",
    "\"\"\""
   ]
  },
  {
   "cell_type": "markdown",
   "metadata": {},
   "source": [
    "Tablodaki verileri silme ve güncelleme:\n"
   ]
  },
  {
   "cell_type": "markdown",
   "metadata": {},
   "source": [
    "Update kitaplık set Yayınevi=\"Everest\" where Yayınevi=\"Doğan kitap\"===Yayınevi doğan kitap olan verilerin yayınevini evereste güncelle demek."
   ]
  },
  {
   "cell_type": "markdown",
   "metadata": {},
   "source": [
    "cursor.execute(\"update kitaplık set Yazar='Gülten Dayıoğlu' where Yazar='hatırlamıyorum' \")\n",
    "\n",
    "con.commit()\n"
   ]
  },
  {
   "cell_type": "markdown",
   "metadata": {},
   "source": [
    "cursor.execute(\"Delete from kitaplık where Yazar=\"Ahmet Ümit\")=====yazarı ahmet ümit olan verileri sil."
   ]
  },
  {
   "cell_type": "code",
   "execution_count": null,
   "metadata": {},
   "outputs": [],
   "source": [
    "import sqlite3 \n",
    "import time\n",
    "\n",
    "class üyeler():\n",
    "    def __init__(self,İsim,Soyisim,Yaş,Boy,Kilo,Vücut_kitle_indeksi):\n",
    "        self.İsim=İsim\n",
    "        self.Soyisim=Soyisim\n",
    "        self.Yaş=Yaş\n",
    "        self.Boy=Boy\n",
    "        self.Kilo=Kilo\n",
    "        self.Vücut_kitle_indeksi=Vücut_kitle_indeksi\n",
    "\n",
    "    def __str__(self):\n",
    "        print(f\"Üyenin ismi:{self.İsim}\\nSoyismi:{self.Soyisim}\\nYaşı:{self.Yaş}\\nBoyu:{self.Boy}\\nKilosu:{self.Kilo}\\nVücut Kitle İndeksi:{self.Vücut_kitle_indeksi}\")\n",
    "        ##return diyip de devamını alabilirdim.\n",
    "        \n",
    "class Kütüphane():#bağlantıyı burda gerçekleştireceğim.\n",
    "    def __init__(self):\n",
    "        self.baglanti_olustur()#init fonk çağrılıcak ilk ve baglanti_olustur fonk nunu çağıracak.\n",
    "\n",
    "    def baglanti_olustur(self):\n",
    "        self.baglanti=sqlite3.connect(\"Kütüphane.db\")\n",
    "        self.cursor=self.baglanti.cursor()\n",
    "        sorgu=\"create table if not exists tablo(İsim Text, Soyisim Text,Yaş Int, Boy Float, Kilo Int, Vücut Kitle İndeksi Float)\"\n",
    "        self.cursor.execute(sorgu)\n",
    "        self.baglanti.commit()\n",
    "\n",
    "    def baglantiyi_kes(self):\n",
    "        self.baglanti.close()\n",
    "\n",
    "    def  üyeleri_goster(self):\n",
    "        sorgu2=\"select * from tablo\"\n",
    "        self.cursor(sorgu2)\n",
    "        liste=self.cursor.fetchall()\n",
    "        if len(liste)==0:\n",
    "            print(\"Üye bulunmamakta.\")\n",
    "        else:\n",
    "            for i in liste:\n",
    "                Üye=üyeler(i[0],i[1],i[2],i[3],i[4],i[5])\n",
    "                print(Üye)\n",
    "    def üye_sorgula(self,İsim):\n",
    "        sorgu3=\"Select * from tablo İsim=?\"\n",
    "        self.cursor.execute(sorgu3,(İsim,))\n",
    "        listee=self.cursor.fetchall()\n",
    "        if len(listee)==0:\n",
    "            print(f\"{İsim} isminde üye veya üyeler bulunamadı.\")\n",
    "        else:\n",
    "            for i in listee:\n",
    "                Üyee=üyeler(i[0],i[1],i[2],i[3],i[4],i[5])\n",
    "                print(Üyee)\n",
    "    def üye_ekle(self,üye):\n",
    "        sorgu=\"İnsert into tablo values(?,?,?,?,?)\"\n",
    "        self.cursor.execute(sorgu,(üye.İsim,üye.Soyisim,üye.Yaş,üye.Boy,üye,Kilo,üye.Vücut_kitle_indeksi))\n",
    "        self.baglanti.commit()\n",
    "\n",
    "    def üye_sil(self,İsim):\n",
    "\n",
    "        sorgu=\"delete from tablo where İsim=?\"\n",
    "        self.cursor.execute(sorgu,(İsim,))\n",
    "        self.baglanti.commit()\n",
    "\n",
    "    \n",
    "\n",
    "\n",
    "\n",
    "\n",
    "\n",
    "\n",
    "    \n"
   ]
  },
  {
   "cell_type": "code",
   "execution_count": null,
   "metadata": {},
   "outputs": [],
   "source": [
    "import sqlite3\n",
    "\n",
    "con = sqlite3.connect(\"kütüphane.db\")\n",
    "\n",
    "cursor = con.cursor()\n",
    "def tablo_olustur():\n",
    "    cursor.execute(\"CREATE TABLE IF NOT EXISTS kitaplık (İsim TEXT,Yazar TEXT,Yayınevi TEXT,Sayfa_Sayısı INT)\")\n",
    "    con.commit()\n",
    "def veri_ekle():\n",
    "    cursor.execute(\"Insert into kitaplık Values('İstanbul Hatırası','Ahmet Ümit','Everest',561)\")\n",
    "    con.commit()\n",
    "def veri_ekle2(isim,yazar,yayınevi,sayfa_sayısı):\n",
    "    cursor.execute(\"Insert into kitaplık Values(?,?,?,?)\",(isim,yazar,yayınevi,sayfa_sayısı))\n",
    "    con.commit()\n",
    "def verileri_al():\n",
    "    cursor.execute(\"Select * From kitaplık\")\n",
    "    liste = cursor.fetchall()\n",
    "    print(\"Kitaplık tablosunun bilgileri...\")\n",
    "    for i in liste:\n",
    "        print(i)\n",
    "   \n",
    "def verileri_al2():\n",
    "    cursor.execute(\"Select İsim,Yazar From kitaplık\")\n",
    "    liste = cursor.fetchall()\n",
    "    print(\"Kitaplık tablosunun bilgileri...\")\n",
    "    for i in liste:\n",
    "        print(i)\n",
    "def verileri_al3(yayınevi):\n",
    "    cursor.execute(\"Select * From kitaplık where Yayınevi = ?\",(yayınevi,))\n",
    "    liste = cursor.fetchall()\n",
    "    print(\"Kitaplık tablosunun bilgileri...\")\n",
    "    for i in liste:\n",
    "        print(i)\n",
    "def verileriguncelle(eski_yayınevi,yeni_yayınevi):\n",
    "    cursor.execute(\"Update kitaplık set Yayınevi = ? where Yayınevi = ?\",(yeni_yayınevi,eski_yayınevi))\n",
    "    con.commit()\n",
    "def verilerisil(yazar):\n",
    "    cursor.execute(\"Delete From kitaplık where Yazar = ?\",(yazar,))\n",
    "    con.commit()\n",
    "    \n",
    "verileri_al()\n",
    "con.close()"
   ]
  },
  {
   "cell_type": "code",
   "execution_count": null,
   "metadata": {},
   "outputs": [],
   "source": [
    "import sqlite3\n",
    "\n",
    "import time\n",
    "\n",
    "class Kitap():\n",
    "\n",
    "    def __init__(self,isim,yazar,yayınevi,tür,baskı):\n",
    "\n",
    "        self.isim = isim\n",
    "        self.yazar = yazar\n",
    "        self.yayınevi = yayınevi\n",
    "        self.tür = tür\n",
    "        self.baskı = baskı\n",
    "\n",
    "    def __str__(self):\n",
    "\n",
    "        return \"Kitap İsmi: {}\\nYazar: {}\\nYayınevi: {}\\nTür: {}\\nBaskı: {}\\n\".format(self.isim,self.yazar,self.yayınevi,self.tür,self.baskı)\n",
    "\n",
    "\n",
    "class Kütüphane():\n",
    "\n",
    "    def __init__(self):\n",
    "\n",
    "        self.baglanti_olustur()\n",
    "\n",
    "    def baglanti_olustur(self):\n",
    "\n",
    "        self.baglanti = sqlite3.connect(\"kütüphane.db\")\n",
    "\n",
    "        self.cursor = self.baglanti.cursor()\n",
    "\n",
    "        sorgu = \"Create Table If not exists kitaplar (isim TEXT,yazar TEXT,yayınevi TEXT,tür TEXT,baskı INT)\"\n",
    "\n",
    "        self.cursor.execute(sorgu)\n",
    "\n",
    "        self.baglanti.commit()\n",
    "    def baglantiyi_kes(self):\n",
    "        self.baglanti.close()\n",
    "\n",
    "    def kitapları_goster(self):\n",
    "\n",
    "        sorgu =  \"Select * From kitaplar\"\n",
    "\n",
    "        self.cursor.execute(sorgu)\n",
    "\n",
    "        kitaplar = self.cursor.fetchall()\n",
    "\n",
    "        if (len(kitaplar) == 0):\n",
    "            print(\"Kütüphanede kitap bulunmuyor...\")\n",
    "        else:\n",
    "            for i in kitaplar:\n",
    "\n",
    "                kitap = Kitap(i[0],i[1],i[2],i[3],i[4])\n",
    "                print(kitap)\n",
    "\n",
    "    def kitap_sorgula(self,isim):\n",
    "\n",
    "        sorgu = \"Select * From kitaplar where isim = ?\"\n",
    "\n",
    "        self.cursor.execute(sorgu,(isim,))\n",
    "\n",
    "        kitaplar = self.cursor.fetchall()\n",
    "\n",
    "        if (len(kitaplar) == 0):\n",
    "            print(\"Böyle bir kitap bulunmuyor.....\")\n",
    "        else:\n",
    "            kitap = Kitap(kitaplar[0][0],kitaplar[0][1],kitaplar[0][2],kitaplar[0][3],kitaplar[0][4])\n",
    "\n",
    "            print(kitap)\n",
    "    def kitap_ekle(self,kitap):\n",
    "\n",
    "        sorgu = \"Insert into kitaplar Values(?,?,?,?,?)\"\n",
    "\n",
    "        self.cursor.execute(sorgu,(kitap.isim,kitap.yazar,kitap.yayınevi,kitap.tür,kitap.baskı))\n",
    "\n",
    "        self.baglanti.commit()\n",
    "\n",
    "    def kitap_sil(self,isim):\n",
    "\n",
    "        sorgu = \"Delete From kitaplar where isim = ?\"\n",
    "\n",
    "        self.cursor.execute(sorgu,(isim,))\n",
    "\n",
    "        self.baglanti.commit()\n",
    "\n",
    "    def baskı_yükselt(self,isim):\n",
    "\n",
    "        sorgu = \"Select * From kitaplar where isim = ?\"\n",
    "\n",
    "        self.cursor.execute(sorgu,(isim,))\n",
    "\n",
    "\n",
    "        kitaplar = self.cursor.fetchall()\n",
    "\n",
    "        if (len(kitaplar) == 0):\n",
    "            print(\"Böyle bir kitap bulunmuyor...\")\n",
    "        else:\n",
    "            baskı = kitaplar[0][4]\n",
    "\n",
    "            baskı += 1\n",
    "\n",
    "            sorgu2 = \"Update kitaplar set baskı = ? where isim = ?\"\n",
    "\n",
    "            self.cursor.execute(sorgu2,(baskı,isim))\n",
    "\n",
    "            self.baglanti.commit()\n"
   ]
  },
  {
   "cell_type": "code",
   "execution_count": null,
   "metadata": {},
   "outputs": [],
   "source": [
    "from kütüphane import *\n",
    "\n",
    "print(\"\"\"***********************************\n",
    "\n",
    "Kütüphane Programına Hoşgeldiniz.\n",
    "\n",
    "İşlemler;\n",
    "\n",
    "1. Kitapları Göster\n",
    "\n",
    "2. Kitap Sorgulama\n",
    "\n",
    "3. Kitap Ekle\n",
    "\n",
    "4. Kitap Sil \n",
    "\n",
    "5. Baskı Yükselt\n",
    "\n",
    "Çıkmak için 'q' ya basın.\n",
    "***********************************\"\"\")\n",
    "\n",
    "kütüphane = Kütüphane()\n",
    "\n",
    "while True:\n",
    "    işlem = input(\"Yapacağınız İşlem:\")\n",
    "\n",
    "    if (işlem == \"q\"):\n",
    "        print(\"Program Sonlandırılıyor.....\")\n",
    "        print(\"Yine bekleriz....\")\n",
    "        break\n",
    "    elif (işlem == \"1\"):\n",
    "        kütüphane.kitapları_goster()\n",
    "\n",
    "    elif (işlem == \"2\"):\n",
    "        isim = input(\"Hangi kitabı istiyorsunuz ? \")\n",
    "        print(\"Kitap Sorgulanıyor...\")\n",
    "        time.sleep(2)\n",
    "\n",
    "        kütüphane.kitap_sorgula(isim)\n",
    "\n",
    "    elif (işlem == \"3\"):\n",
    "        isim = input(\"İsim:\")\n",
    "        yazar = input(\"Yazar:\")\n",
    "        yayınevi = input(\"Yayınevi:\")\n",
    "        tür = input(\"Tür:\")\n",
    "        baskı = int(input(\"Baskı\"))\n",
    "\n",
    "        yeni_kitap = Kitap(isim,yazar,yayınevi,tür,baskı)\n",
    "\n",
    "        print(\"Kitap ekleniyor....\")\n",
    "        time.sleep(2)\n",
    "\n",
    "        kütüphane.kitap_ekle(yeni_kitap)\n",
    "        print(\"Kitap Eklendi....\")\n",
    "\n",
    "\n",
    "    elif (işlem == \"4\"):\n",
    "        isim = input(\"Hangi kitabı silmek istiyorsunuz ?\")\n",
    "\n",
    "        cevap = input(\"Emin misiniz ? (E/H)\")\n",
    "        if (cevap == \"E\"):\n",
    "            print(\"Kitap Siliniyor...\")\n",
    "            time.sleep(2)\n",
    "            kütüphane.kitap_sil(isim)\n",
    "            print(\"Kitap silindi....\")\n",
    "\n",
    "\n",
    "    elif (işlem == \"5\"):\n",
    "        isim = input(\"Hangi kitabın baskısını yükseltmek istiyorsunuz ?\")\n",
    "        print(\"Baskı yükseltiliyor....\")\n",
    "        time.sleep(2)\n",
    "        kütüphane.baskı_yükselt(isim)\n",
    "        print(\"Baskı yükseltildi....\")\n",
    "\n",
    "    else:\n",
    "        print(\"Geçersiz İşlem...\")\n",
    "\n"
   ]
  }
 ],
 "metadata": {
  "kernelspec": {
   "display_name": "Python 3",
   "language": "python",
   "name": "python3"
  },
  "language_info": {
   "codemirror_mode": {
    "name": "ipython",
    "version": 3
   },
   "file_extension": ".py",
   "mimetype": "text/x-python",
   "name": "python",
   "nbconvert_exporter": "python",
   "pygments_lexer": "ipython3",
   "version": "3.12.8"
  }
 },
 "nbformat": 4,
 "nbformat_minor": 2
}
