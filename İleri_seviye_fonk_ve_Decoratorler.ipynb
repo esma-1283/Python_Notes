{
 "cells": [
  {
   "cell_type": "markdown",
   "metadata": {},
   "source": [
    "## Fonksiyonların İleri Seviye Özellikleri Ve Decoratorlar"
   ]
  },
  {
   "cell_type": "markdown",
   "metadata": {},
   "source": [
    "### *args ve **kwargs"
   ]
  },
  {
   "cell_type": "markdown",
   "metadata": {},
   "source": [
    "*args ....>  Fonksiyona istediğimiz sayıda parametre göndermemizi ve demet halinde üzerinde dönememizi sağlar.\n",
    "\n",
    "Kullanımı:"
   ]
  },
  {
   "cell_type": "code",
   "execution_count": null,
   "metadata": {},
   "outputs": [],
   "source": [
    "def fonk(*args):\n",
    "    for i in args:\n",
    "        print(i)"
   ]
  },
  {
   "cell_type": "code",
   "execution_count": 2,
   "metadata": {},
   "outputs": [
    {
     "name": "stdout",
     "output_type": "stream",
     "text": [
      "5\n",
      "234\n",
      "465\n"
     ]
    }
   ],
   "source": [
    "fonk(5,234,465)"
   ]
  },
  {
   "cell_type": "code",
   "execution_count": 2,
   "metadata": {},
   "outputs": [],
   "source": [
    "def fonk(*args):#Değerler Demet içinde döner.\n",
    "    print(args)"
   ]
  },
  {
   "cell_type": "code",
   "execution_count": 4,
   "metadata": {},
   "outputs": [
    {
     "name": "stdout",
     "output_type": "stream",
     "text": [
      "(333, 14, 234, 55)\n"
     ]
    }
   ],
   "source": [
    "fonk(333,14,234,55)"
   ]
  },
  {
   "cell_type": "markdown",
   "metadata": {},
   "source": [
    "Fonksiyona *args parametresini yalnız tanımlama zorunluluğu yoktur.\n",
    "\n",
    "Farklı parametreler (**kwargs dahil) ile de tanımlanabilir. (Burda sırası önemli olacak.)"
   ]
  },
  {
   "cell_type": "code",
   "execution_count": 9,
   "metadata": {},
   "outputs": [],
   "source": [
    "def fonksiyon(isim,*args):\n",
    "    print(\"İsim :\",isim,sep=\"\")\n",
    "    print(\"\"\"--------------\n",
    "Sayılar\"\"\")\n",
    "    for i in args:\n",
    "        print(i)"
   ]
  },
  {
   "cell_type": "code",
   "execution_count": 10,
   "metadata": {},
   "outputs": [
    {
     "name": "stdout",
     "output_type": "stream",
     "text": [
      "İsim :Esma\n",
      "--------------\n",
      "Sayılar\n",
      "4\n",
      "24\n",
      "2\n",
      "53\n"
     ]
    }
   ],
   "source": [
    "fonksiyon(\"Esma\",4,24,2,53)"
   ]
  },
  {
   "cell_type": "code",
   "execution_count": 13,
   "metadata": {},
   "outputs": [],
   "source": [
    "def fonksiyon(*args,isim):##*args parametresini başa yazmayı deniyorum.\n",
    "    print(\"İsim :\",isim,sep=\"\")\n",
    "    print(\"\"\"--------------\n",
    "Sayılar\"\"\")\n",
    "    for i in args:\n",
    "        print(i)\n"
   ]
  },
  {
   "cell_type": "code",
   "execution_count": 14,
   "metadata": {},
   "outputs": [
    {
     "ename": "TypeError",
     "evalue": "fonksiyon() missing 1 required keyword-only argument: 'isim'",
     "output_type": "error",
     "traceback": [
      "\u001b[0;31m---------------------------------------------------------------------------\u001b[0m",
      "\u001b[0;31mTypeError\u001b[0m                                 Traceback (most recent call last)",
      "Cell \u001b[0;32mIn[14], line 1\u001b[0m\n\u001b[0;32m----> 1\u001b[0m \u001b[43mfonksiyon\u001b[49m\u001b[43m(\u001b[49m\u001b[38;5;124;43m\"\u001b[39;49m\u001b[38;5;124;43mEsma\u001b[39;49m\u001b[38;5;124;43m\"\u001b[39;49m\u001b[43m,\u001b[49m\u001b[38;5;241;43m4\u001b[39;49m\u001b[43m,\u001b[49m\u001b[38;5;241;43m24\u001b[39;49m\u001b[43m,\u001b[49m\u001b[38;5;241;43m2\u001b[39;49m\u001b[43m,\u001b[49m\u001b[38;5;241;43m53\u001b[39;49m\u001b[43m)\u001b[49m\n",
      "\u001b[0;31mTypeError\u001b[0m: fonksiyon() missing 1 required keyword-only argument: 'isim'"
     ]
    }
   ],
   "source": [
    "fonksiyon(\"Esma\",4,24,2,53)"
   ]
  },
  {
   "cell_type": "markdown",
   "metadata": {},
   "source": [
    "**kwargs ......> Girilen argümanlardan sözlük oluşturur."
   ]
  },
  {
   "cell_type": "code",
   "execution_count": 16,
   "metadata": {},
   "outputs": [],
   "source": [
    "def deneme(**kwargs):\n",
    "    print(kwargs)"
   ]
  },
  {
   "cell_type": "code",
   "execution_count": 17,
   "metadata": {},
   "outputs": [
    {
     "ename": "NameError",
     "evalue": "name 'Esma' is not defined",
     "output_type": "error",
     "traceback": [
      "\u001b[0;31m---------------------------------------------------------------------------\u001b[0m",
      "\u001b[0;31mNameError\u001b[0m                                 Traceback (most recent call last)",
      "Cell \u001b[0;32mIn[17], line 1\u001b[0m\n\u001b[0;32m----> 1\u001b[0m deneme(İsim\u001b[38;5;241m=\u001b[39m\u001b[43mEsma\u001b[49m,Soyisim\u001b[38;5;241m=\u001b[39m\u001b[38;5;124m\"\u001b[39m\u001b[38;5;124mTanşa\u001b[39m\u001b[38;5;124m\"\u001b[39m,Numara\u001b[38;5;241m=\u001b[39m\u001b[38;5;241m270\u001b[39m)\n",
      "\u001b[0;31mNameError\u001b[0m: name 'Esma' is not defined"
     ]
    }
   ],
   "source": [
    "deneme(İsim=Esma,Soyisim=\"Tanşa\",Numara=270)"
   ]
  },
  {
   "cell_type": "code",
   "execution_count": 18,
   "metadata": {},
   "outputs": [
    {
     "name": "stdout",
     "output_type": "stream",
     "text": [
      "{'İsim': 'Esma', 'Soyisim': 'Tanşa', 'Numara': 270}\n"
     ]
    }
   ],
   "source": [
    "deneme(İsim=\"Esma\",Soyisim=\"Tanşa\",Numara=270)"
   ]
  },
  {
   "cell_type": "code",
   "execution_count": 42,
   "metadata": {},
   "outputs": [],
   "source": [
    "def örnek(**kwargs):\n",
    "    for i,j in kwargs.items():\n",
    "        print(i,\":\",j,sep=\"\")"
   ]
  },
  {
   "cell_type": "code",
   "execution_count": 43,
   "metadata": {},
   "outputs": [
    {
     "name": "stdout",
     "output_type": "stream",
     "text": [
      "İsim:Esma\n",
      "Soyisim:Tanşa\n",
      "Numara:270\n"
     ]
    }
   ],
   "source": [
    "örnek(İsim=\"Esma\",Soyisim=\"Tanşa\",Numara=270)"
   ]
  },
  {
   "cell_type": "code",
   "execution_count": 20,
   "metadata": {},
   "outputs": [
    {
     "ename": "SyntaxError",
     "evalue": "arguments cannot follow var-keyword argument (175836198.py, line 2)",
     "output_type": "error",
     "traceback": [
      "\u001b[0;36m  Cell \u001b[0;32mIn[20], line 2\u001b[0;36m\u001b[0m\n\u001b[0;31m    def beraberrr(**kwargs, *args):\u001b[0m\n\u001b[0m                            ^\u001b[0m\n\u001b[0;31mSyntaxError\u001b[0m\u001b[0;31m:\u001b[0m arguments cannot follow var-keyword argument\n"
     ]
    }
   ],
   "source": [
    "#Beraber kullanımı:\n",
    "def beraberrr(**kwargs, *args):\n",
    "    for i,j in kwargs:\n",
    "        print(i,j)\n",
    "    sum=0\n",
    "    for i in args:\n",
    "        sum+=i\n",
    "    print(\"Toplamı:\",sum)\n",
    "\n"
   ]
  },
  {
   "cell_type": "markdown",
   "metadata": {},
   "source": [
    "Üstte SyntaxError almamızın sebebi \n",
    "\n",
    "def beraberrr(**kwargs, *args):    satırıdır.\n",
    "\n",
    "**kwargs argümanı *args dan önce yazılamaz."
   ]
  },
  {
   "cell_type": "code",
   "execution_count": 26,
   "metadata": {},
   "outputs": [],
   "source": [
    "#Beraber kullanımı:\n",
    "def beraber(*args,**kwargs):\n",
    "    for i,j in kwargs.items():\n",
    "        print(i,j)\n",
    "    print(\"-------------------\")\n",
    "    sum=0\n",
    "    for i in args:\n",
    "        sum+=i\n",
    "    print(\"Toplamı:\",sum)"
   ]
  },
  {
   "cell_type": "code",
   "execution_count": 27,
   "metadata": {},
   "outputs": [
    {
     "name": "stdout",
     "output_type": "stream",
     "text": [
      "İsim Esma\n",
      "Soyisim Tanşa\n",
      "Numara 6677\n",
      "-------------------\n",
      "Toplamı: 76\n"
     ]
    }
   ],
   "source": [
    "beraber(1,5,3,55,3,9,İsim=\"Esma\",Soyisim=\"Tanşa\",Numara=6677)"
   ]
  },
  {
   "cell_type": "markdown",
   "metadata": {},
   "source": [
    "### İç İçe Fonksiyonlar"
   ]
  },
  {
   "cell_type": "markdown",
   "metadata": {},
   "source": [
    "Fonksiyonu değişkene eşitleyerek fonksiyonun özelliklerini değişkene de tanımlayabiliriz."
   ]
  },
  {
   "cell_type": "code",
   "execution_count": 43,
   "metadata": {},
   "outputs": [],
   "source": [
    "def ağırlama(isim):\n",
    "    return f\"Hoşgeldiniz {isim} hanım.\""
   ]
  },
  {
   "cell_type": "code",
   "execution_count": 44,
   "metadata": {},
   "outputs": [
    {
     "data": {
      "text/plain": [
       "'Hoşgeldiniz Esma hanım.'"
      ]
     },
     "execution_count": 44,
     "metadata": {},
     "output_type": "execute_result"
    }
   ],
   "source": [
    "ağırlama(\"Esma\")"
   ]
  },
  {
   "cell_type": "markdown",
   "metadata": {},
   "source": [
    "selamla isimli değişkene ağırlama fonksiyonunu tanımlamak için:"
   ]
  },
  {
   "cell_type": "code",
   "execution_count": 45,
   "metadata": {},
   "outputs": [],
   "source": [
    "selamla=ağırlama"
   ]
  },
  {
   "cell_type": "code",
   "execution_count": 46,
   "metadata": {},
   "outputs": [
    {
     "data": {
      "text/plain": [
       "<function __main__.ağırlama(isim)>"
      ]
     },
     "execution_count": 46,
     "metadata": {},
     "output_type": "execute_result"
    }
   ],
   "source": [
    "selamla\n",
    "#Artık fonksiyon olarak tanımlandı"
   ]
  },
  {
   "cell_type": "code",
   "execution_count": 47,
   "metadata": {},
   "outputs": [
    {
     "data": {
      "text/plain": [
       "'Hoşgeldiniz Esma hanım.'"
      ]
     },
     "execution_count": 47,
     "metadata": {},
     "output_type": "execute_result"
    }
   ],
   "source": [
    "selamla(\"Esma\")"
   ]
  },
  {
   "cell_type": "code",
   "execution_count": 48,
   "metadata": {},
   "outputs": [],
   "source": [
    "del ağırlama"
   ]
  },
  {
   "cell_type": "markdown",
   "metadata": {},
   "source": [
    "ağırlama fonksiyonunu sildiğim zaman selamla fonksiyonu her ne kadar ondan türemiş de olsa üzerinde herhangi bir değişiklik olmaz."
   ]
  },
  {
   "cell_type": "code",
   "execution_count": 49,
   "metadata": {},
   "outputs": [
    {
     "data": {
      "text/plain": [
       "'Hoşgeldiniz Esma hanım.'"
      ]
     },
     "execution_count": 49,
     "metadata": {},
     "output_type": "execute_result"
    }
   ],
   "source": [
    "selamla(\"Esma\")"
   ]
  },
  {
   "cell_type": "code",
   "execution_count": 50,
   "metadata": {},
   "outputs": [
    {
     "data": {
      "text/plain": [
       "<function __main__.ağırlama(isim)>"
      ]
     },
     "execution_count": 50,
     "metadata": {},
     "output_type": "execute_result"
    }
   ],
   "source": [
    "selamla#silinmedi"
   ]
  },
  {
   "cell_type": "markdown",
   "metadata": {},
   "source": [
    "Fonksiyonun içine farklı bir fonksiyon tanımlama:"
   ]
  },
  {
   "cell_type": "code",
   "execution_count": 51,
   "metadata": {},
   "outputs": [],
   "source": [
    "#iç içe fonklarda  içteki fonksiyona dışardan erişim sağlayamayız.\n",
    "def fonksiyon():\n",
    "    print(\"Dış fonk çalıştı\")\n",
    "    def fonksiyon_iç():\n",
    "        print(\"İç fonk çalıştı\")\n",
    "    print(\"İç fonk çağrılıyor...\")\n",
    "    fonksiyon_iç()\n",
    "    "
   ]
  },
  {
   "cell_type": "markdown",
   "metadata": {},
   "source": [
    "Fonksiyonun içine tanımlanan fonksiyon yalnız içerden çalıştırılabilir.  \n",
    "\n",
    "Fonksiyon dışından erişim yoktur."
   ]
  },
  {
   "cell_type": "code",
   "execution_count": 52,
   "metadata": {},
   "outputs": [
    {
     "name": "stdout",
     "output_type": "stream",
     "text": [
      "Dış fonk çalıştı\n",
      "İç fonk çağrılıyor...\n",
      "İç fonk çalıştı\n"
     ]
    }
   ],
   "source": [
    "fonksiyon()"
   ]
  },
  {
   "cell_type": "code",
   "execution_count": 53,
   "metadata": {},
   "outputs": [
    {
     "ename": "NameError",
     "evalue": "name 'fonksiyon_iç' is not defined",
     "output_type": "error",
     "traceback": [
      "\u001b[0;31m---------------------------------------------------------------------------\u001b[0m",
      "\u001b[0;31mNameError\u001b[0m                                 Traceback (most recent call last)",
      "Cell \u001b[0;32mIn[53], line 1\u001b[0m\n\u001b[0;32m----> 1\u001b[0m \u001b[43mfonksiyon_iç\u001b[49m()\n",
      "\u001b[0;31mNameError\u001b[0m: name 'fonksiyon_iç' is not defined"
     ]
    }
   ],
   "source": [
    "fonksiyon_iç()"
   ]
  },
  {
   "cell_type": "code",
   "execution_count": 56,
   "metadata": {},
   "outputs": [],
   "source": [
    "def fonksiyon():\n",
    "    print(\"Dış fonk çalıştı\")\n",
    "    fonksiyon_iç()       #Henüz tanımlanmamış fonksiyonu çalıştıramıyoruz.\n",
    "    def fonksiyon_iç():\n",
    "        print(\"İç fonk çalıştı\")\n",
    "    print(\"İç fonk çağrılıyor...\")\n",
    "    \n"
   ]
  },
  {
   "cell_type": "code",
   "execution_count": 55,
   "metadata": {},
   "outputs": [
    {
     "name": "stdout",
     "output_type": "stream",
     "text": [
      "Dış fonk çalıştı\n"
     ]
    },
    {
     "ename": "UnboundLocalError",
     "evalue": "cannot access local variable 'fonksiyon_iç' where it is not associated with a value",
     "output_type": "error",
     "traceback": [
      "\u001b[0;31m---------------------------------------------------------------------------\u001b[0m",
      "\u001b[0;31mUnboundLocalError\u001b[0m                         Traceback (most recent call last)",
      "Cell \u001b[0;32mIn[55], line 1\u001b[0m\n\u001b[0;32m----> 1\u001b[0m \u001b[43mfonksiyon\u001b[49m\u001b[43m(\u001b[49m\u001b[43m)\u001b[49m\n",
      "Cell \u001b[0;32mIn[54], line 3\u001b[0m, in \u001b[0;36mfonksiyon\u001b[0;34m()\u001b[0m\n\u001b[1;32m      1\u001b[0m \u001b[38;5;28;01mdef\u001b[39;00m \u001b[38;5;21mfonksiyon\u001b[39m():\n\u001b[1;32m      2\u001b[0m     \u001b[38;5;28mprint\u001b[39m(\u001b[38;5;124m\"\u001b[39m\u001b[38;5;124mDış fonk çalıştı\u001b[39m\u001b[38;5;124m\"\u001b[39m)\n\u001b[0;32m----> 3\u001b[0m     \u001b[43mfonksiyon_iç\u001b[49m()\n\u001b[1;32m      4\u001b[0m     \u001b[38;5;28;01mdef\u001b[39;00m \u001b[38;5;21mfonksiyon_iç\u001b[39m():\n\u001b[1;32m      5\u001b[0m         \u001b[38;5;28mprint\u001b[39m(\u001b[38;5;124m\"\u001b[39m\u001b[38;5;124mİç fonk çalıştı\u001b[39m\u001b[38;5;124m\"\u001b[39m)\n",
      "\u001b[0;31mUnboundLocalError\u001b[0m: cannot access local variable 'fonksiyon_iç' where it is not associated with a value"
     ]
    }
   ],
   "source": [
    "fonksiyon()"
   ]
  },
  {
   "cell_type": "markdown",
   "metadata": {},
   "source": [
    "Başka bir örnek:"
   ]
  },
  {
   "cell_type": "code",
   "execution_count": 61,
   "metadata": {},
   "outputs": [],
   "source": [
    "def topla_çarp(*args):\n",
    "    \n",
    "    def topla(*args):\n",
    "        sum=0\n",
    "        for i in args:\n",
    "            sum+=i\n",
    "        print(sum)\n",
    "    print(\"Topla fonk çağrılıyor....\")\n",
    "    topla(*args)\n",
    "    def çarp(*args):\n",
    "        çarpım=1\n",
    "        for i in args:\n",
    "            çarpım*=i\n",
    "        print(çarpım)\n",
    "    print(\"Çarp fonk çağrılıyor....\")\n",
    "    çarp(*args)\n"
   ]
  },
  {
   "cell_type": "code",
   "execution_count": 62,
   "metadata": {},
   "outputs": [
    {
     "name": "stdout",
     "output_type": "stream",
     "text": [
      "Topla fonk çağrılıyor....\n",
      "18\n",
      "Çarp fonk çağrılıyor....\n",
      "315\n"
     ]
    }
   ],
   "source": [
    "topla_çarp(3,5,7,3)"
   ]
  },
  {
   "cell_type": "code",
   "execution_count": 64,
   "metadata": {},
   "outputs": [
    {
     "name": "stdout",
     "output_type": "stream",
     "text": [
      "Topla fonk çağrılıyor....\n"
     ]
    },
    {
     "ename": "TypeError",
     "evalue": "topla_çarp.<locals>.topla() takes 1 positional argument but 4 were given",
     "output_type": "error",
     "traceback": [
      "\u001b[0;31m---------------------------------------------------------------------------\u001b[0m",
      "\u001b[0;31mTypeError\u001b[0m                                 Traceback (most recent call last)",
      "Cell \u001b[0;32mIn[64], line 18\u001b[0m\n\u001b[1;32m     15\u001b[0m     \u001b[38;5;28mprint\u001b[39m(\u001b[38;5;124m\"\u001b[39m\u001b[38;5;124mÇarp fonk çağrılıyor....\u001b[39m\u001b[38;5;124m\"\u001b[39m)\n\u001b[1;32m     16\u001b[0m     çarp(\u001b[38;5;241m*\u001b[39margs)\n\u001b[0;32m---> 18\u001b[0m \u001b[43mtopla_çarp\u001b[49m\u001b[43m(\u001b[49m\u001b[38;5;241;43m5\u001b[39;49m\u001b[43m,\u001b[49m\u001b[38;5;241;43m68\u001b[39;49m\u001b[43m,\u001b[49m\u001b[38;5;241;43m8\u001b[39;49m\u001b[43m,\u001b[49m\u001b[38;5;241;43m3\u001b[39;49m\u001b[43m)\u001b[49m\n",
      "Cell \u001b[0;32mIn[64], line 9\u001b[0m, in \u001b[0;36mtopla_çarp\u001b[0;34m(*args)\u001b[0m\n\u001b[1;32m      7\u001b[0m     \u001b[38;5;28mprint\u001b[39m(\u001b[38;5;28msum\u001b[39m)\n\u001b[1;32m      8\u001b[0m \u001b[38;5;28mprint\u001b[39m(\u001b[38;5;124m\"\u001b[39m\u001b[38;5;124mTopla fonk çağrılıyor....\u001b[39m\u001b[38;5;124m\"\u001b[39m)\n\u001b[0;32m----> 9\u001b[0m \u001b[43mtopla\u001b[49m\u001b[43m(\u001b[49m\u001b[38;5;241;43m*\u001b[39;49m\u001b[43margs\u001b[49m\u001b[43m)\u001b[49m\n\u001b[1;32m     10\u001b[0m \u001b[38;5;28;01mdef\u001b[39;00m \u001b[38;5;21mçarp\u001b[39m(args):\n\u001b[1;32m     11\u001b[0m     çarpım\u001b[38;5;241m=\u001b[39m\u001b[38;5;241m1\u001b[39m\n",
      "\u001b[0;31mTypeError\u001b[0m: topla_çarp.<locals>.topla() takes 1 positional argument but 4 were given"
     ]
    }
   ],
   "source": [
    "def topla_çarp(*args):\n",
    "    \n",
    "    def topla(args):   # *args daki \"*\" ı yazmadan deniyorum.\n",
    "        sum=0\n",
    "        for i in args:\n",
    "            sum+=i\n",
    "        print(sum)\n",
    "    print(\"Topla fonk çağrılıyor....\")\n",
    "    topla(*args)\n",
    "    def çarp(args):\n",
    "        çarpım=1\n",
    "        for i in args:\n",
    "            çarpım*=i\n",
    "        print(çarpım)\n",
    "    print(\"Çarp fonk çağrılıyor....\")\n",
    "    çarp(*args)\n",
    "\n",
    "topla_çarp(5,68,8,3)"
   ]
  },
  {
   "cell_type": "markdown",
   "metadata": {},
   "source": [
    "return ile fonksiyon objesi döndürme:"
   ]
  },
  {
   "cell_type": "code",
   "execution_count": 65,
   "metadata": {},
   "outputs": [],
   "source": [
    "#return ile fonk objesi döndürme:\n",
    "def  ana(adı):\n",
    "    def topla(*args):\n",
    "        sum=0\n",
    "        for i in args:\n",
    "            sum+=i\n",
    "        print(sum)\n",
    "    def çarpma(*args):\n",
    "        çarpım=1\n",
    "        for i in args:\n",
    "            çarpım*=i\n",
    "        print(çarpım)\n",
    "    if adı==\"topla\" or adı==\"toplama\":\n",
    "        return topla\n",
    "    else:\n",
    "        return çarpma"
   ]
  },
  {
   "cell_type": "code",
   "execution_count": 69,
   "metadata": {},
   "outputs": [],
   "source": [
    "fonksiyon=ana(\"topla\")  #fonksiyon objesi döndürüyorum."
   ]
  },
  {
   "cell_type": "code",
   "execution_count": 67,
   "metadata": {},
   "outputs": [
    {
     "data": {
      "text/plain": [
       "<function __main__.ana.<locals>.topla(*args)>"
      ]
     },
     "execution_count": 67,
     "metadata": {},
     "output_type": "execute_result"
    }
   ],
   "source": [
    "fonksiyon"
   ]
  },
  {
   "cell_type": "code",
   "execution_count": 68,
   "metadata": {},
   "outputs": [
    {
     "name": "stdout",
     "output_type": "stream",
     "text": [
      "42\n"
     ]
    }
   ],
   "source": [
    "fonksiyon(1,2,34,5)"
   ]
  },
  {
   "cell_type": "code",
   "execution_count": 70,
   "metadata": {},
   "outputs": [],
   "source": [
    "çarpma=ana(\"çarpsın\")"
   ]
  },
  {
   "cell_type": "code",
   "execution_count": 71,
   "metadata": {},
   "outputs": [
    {
     "name": "stdout",
     "output_type": "stream",
     "text": [
      "355446\n"
     ]
    }
   ],
   "source": [
    "çarpma(42,3,13,31,7)"
   ]
  },
  {
   "cell_type": "markdown",
   "metadata": {},
   "source": [
    "Fonksiyonları argüman olarak farklı fonksiyonlara gönderme:"
   ]
  },
  {
   "cell_type": "code",
   "execution_count": 72,
   "metadata": {},
   "outputs": [],
   "source": [
    "def selam(isim):\n",
    "    return f\"Selam {isim}\"\n",
    "def topla(*args):\n",
    "    sum=0\n",
    "    for i in args:\n",
    "        sum+=i\n",
    "    return sum\n",
    "def çarp(*args):\n",
    "    çarpım=1\n",
    "    for i in args:\n",
    "        çarpım*=i\n",
    "    return çarpım\n",
    "\n",
    "\n",
    "\n",
    "def ana_fonk(fonk1,fonk2,fonk3,islem):\n",
    "    if islem==\"selam\":\n",
    "        print(fonk1(\"Esma\"))\n",
    "    elif islem==\"topla\":\n",
    "        print(fonk2(34,33,212434))  ##Fonksiyonlar girdiğim değerlerde çalışır.\n",
    "    elif islem==\"çarp\":\n",
    "        print(fonk3(334,2))\n",
    "    else:\n",
    "        print(\"Geçersiz işlem....\")"
   ]
  },
  {
   "cell_type": "code",
   "execution_count": 73,
   "metadata": {},
   "outputs": [
    {
     "name": "stdout",
     "output_type": "stream",
     "text": [
      "668\n"
     ]
    }
   ],
   "source": [
    "ana_fonk(selam,topla,çarp,\"çarp\")"
   ]
  },
  {
   "cell_type": "code",
   "execution_count": 74,
   "metadata": {},
   "outputs": [
    {
     "name": "stdout",
     "output_type": "stream",
     "text": [
      "212501\n"
     ]
    }
   ],
   "source": [
    "ana_fonk(selam,topla,çarp,\"topla\")"
   ]
  },
  {
   "cell_type": "code",
   "execution_count": 75,
   "metadata": {},
   "outputs": [
    {
     "name": "stdout",
     "output_type": "stream",
     "text": [
      "Selam Esma\n"
     ]
    }
   ],
   "source": [
    "ana_fonk(selam,topla,çarp,\"selam\")"
   ]
  },
  {
   "cell_type": "markdown",
   "metadata": {},
   "source": [
    "### Decorator Fonksiyonlar\n",
    "\n",
    "Fonksiyonlara ekstra özellik eklememizi ve kod tekrarını azaltmamızı sağlarlar."
   ]
  },
  {
   "cell_type": "markdown",
   "metadata": {},
   "source": [
    "Decoratorlar sayesinde bir veya birden çok fonksiyona başka bir fonksiyonun görevlerini atayabiliriz.\n",
    "\n",
    "Örnek üzerinden anlatmaya çalışacağım."
   ]
  },
  {
   "cell_type": "markdown",
   "metadata": {},
   "source": [
    "Girdiğimiz sayıların karesini alıp toplayan bir fonksiyonumuz olsun.\n",
    "\n",
    " Bizde ek olarak fonksiyona, girilen sayıların tek olanların karelerin toplamını ve çift olanların karelerinin toplamını almaya çalışalım. "
   ]
  },
  {
   "cell_type": "code",
   "execution_count": 101,
   "metadata": {},
   "outputs": [],
   "source": [
    "def kareler_toplamı(sayılar):\n",
    "    sum=0\n",
    "    for i in sayılar:  ##Öncelikle tüm girdilerin karesini alan bir fonksiyon tanımlıyorum.\n",
    "        sum+=(i**2)\n",
    "    print(f\"Tüm sayıların kareleri toplamı: {sum}\")\n"
   ]
  },
  {
   "cell_type": "code",
   "execution_count": 102,
   "metadata": {},
   "outputs": [
    {
     "name": "stdout",
     "output_type": "stream",
     "text": [
      "Tüm sayıların kareleri toplamı: 785\n"
     ]
    }
   ],
   "source": [
    "kareler_toplamı((3,7,4,9,2,11,21,8))"
   ]
  },
  {
   "cell_type": "code",
   "execution_count": 103,
   "metadata": {},
   "outputs": [
    {
     "name": "stdout",
     "output_type": "stream",
     "text": [
      "Tek sayıların kareleri toplamı: 701\n",
      "Çift sayıların kareleri toplamı: 84\n",
      "Tüm sayıların kareleri toplamı: 785\n"
     ]
    }
   ],
   "source": [
    "def decorator(fonksiyon):   \n",
    "\n",
    "    def ekstra(sayılar):  #Tanımladığım fonksiyonun içerisine diğer fonksiyonlara aktarabileceğim ekstra özellikleri ekliyorum.\n",
    "\n",
    "        sum_singles=0\n",
    "        sum_doubles=0\n",
    "\n",
    "        for i in sayılar:\n",
    "\n",
    "            if i%2==0:\n",
    "                sum_doubles+=(i**2)\n",
    "            else:\n",
    "                sum_singles+=(i**2)\n",
    "\n",
    "        print(f\"Tek sayıların kareleri toplamı: {sum_singles}\")  #Tek ve çiflerin karelerinin toplamını ayrı ayrı döndüren bir fonksiyon.\n",
    "        print(f\"Çift sayıların kareleri toplamı: {sum_doubles}\")\n",
    "\n",
    "        fonksiyon(sayılar)  #Fonksiyona sayıları gönderip çalıştırıyorum.\n",
    "\n",
    "    return ekstra #ekstra fonksiyonunu return ediyorum.\n",
    "\n",
    "\n",
    "\n",
    "\n",
    "\n",
    "@decorator    #Son olarak fonksiyonu tanıtıyorum.\n",
    "def kareler_toplamı(sayılar):\n",
    "    sum=0\n",
    "    for i in sayılar: \n",
    "        sum+=(i**2)\n",
    "    \n",
    "    print(f\"Tüm sayıların kareleri toplamı: {sum}\")\n",
    "\n",
    "\n",
    "kareler_toplamı([3,7,4,9,2,11,21,8])"
   ]
  },
  {
   "cell_type": "markdown",
   "metadata": {},
   "source": [
    "Farklı bir örnek...\n",
    "\n",
    "Birden 100 bine kadar olan sayıların karelerinin ve küplerinin toplamını veren iki farklı fonksiyon tanımlayalım:"
   ]
  },
  {
   "cell_type": "code",
   "execution_count": 105,
   "metadata": {},
   "outputs": [],
   "source": [
    "import time\n",
    "\n",
    "def kareleri(sayılar):\n",
    "\n",
    "    kareler_toplamı=0\n",
    "\n",
    "    basla=time.time()\n",
    "\n",
    "    for i in sayılar:\n",
    "        kareler_toplamı+=(i**2)\n",
    "    print(kareler_toplamı)\n",
    "\n",
    "    bitis=time.time()\n",
    "\n",
    "    print(bitis-basla,\"saniye sürdü.\")\n",
    "    \n",
    "def küpleri(sayılar):\n",
    "\n",
    "    küpleri_toplamı=0\n",
    "\n",
    "    basla=time.time()\n",
    "\n",
    "    for i in sayılar:\n",
    "        küpleri_toplamı+=(i**3)\n",
    "    print(küpleri_toplamı)\n",
    "\n",
    "    bitis=time.time()\n",
    "\n",
    "    print(str(bitis-basla)+\" saniye sürdü.\")\n",
    "    "
   ]
  },
  {
   "cell_type": "code",
   "execution_count": 106,
   "metadata": {},
   "outputs": [
    {
     "name": "stdout",
     "output_type": "stream",
     "text": [
      "333328333350000\n",
      "0.009454011917114258 saniye sürdü.\n",
      "24999500002500000000\n",
      "0.010924339294433594 saniye sürdü.\n"
     ]
    }
   ],
   "source": [
    "kareleri(range(100000))\n",
    "küpleri(range(100000))"
   ]
  },
  {
   "cell_type": "markdown",
   "metadata": {},
   "source": [
    "Her iki fonksiyona da süreyi hesaplamaları için görevler de atadık.\n",
    "\n",
    " Aynı işi iki fonksiyona da ayrı ayrı atayıp kod tekrarına düşmekten ve bir fonksiyona birden çok görev vermek yerine decorator kullanıp tekrar yazalım."
   ]
  },
  {
   "cell_type": "code",
   "execution_count": 122,
   "metadata": {},
   "outputs": [
    {
     "name": "stdout",
     "output_type": "stream",
     "text": [
      "333328333350000\n",
      "24999500002500000000\n"
     ]
    }
   ],
   "source": [
    "import time\n",
    "\n",
    "def kareleri(sayılar):\n",
    "    kareler_toplamı=0\n",
    "    for i in sayılar:\n",
    "        kareler_toplamı+=(i**2)\n",
    "    return kareler_toplamı \n",
    "                                #fonsiyonları tek iş yapacak şekilde ayarlıyorum.\n",
    "def küpleri(sayılar):\n",
    "    küpleri_toplamı=0\n",
    "    for i in sayılar:\n",
    "        küpleri_toplamı+=(i**3)\n",
    "    return küpleri_toplamı\n",
    "    \n",
    "\n",
    "print(kareleri(range(100000)))\n",
    "print(küpleri(range(100000)))\n",
    "    "
   ]
  },
  {
   "cell_type": "code",
   "execution_count": null,
   "metadata": {},
   "outputs": [
    {
     "name": "stdout",
     "output_type": "stream",
     "text": [
      "kareleri 0.008261680603027344 saniye sürdü.\n",
      "333328333350000\n",
      "küpleri 0.010988712310791016 saniye sürdü.\n",
      "24999500002500000000\n"
     ]
    }
   ],
   "source": [
    "import time\n",
    "\n",
    "def decorator(fonksiyon):  #İçine bir fonksiyon alıcak.\n",
    "\n",
    "    def ekstra(sayılar):\n",
    "\n",
    "        baslama=time.time()  #Süreyi hesaplayabilmek için başlangıç saniyesi.\n",
    "\n",
    "        sonuç= fonksiyon(sayılar) #Alınan fonksiyonu çalıştırıyor.\n",
    "\n",
    "        bitiş=time.time()     #Süreyi hesaplayabilmek için bitiş saniyesi.\n",
    "\n",
    "        print(fonksiyon.__name__ + \" \"+ str(bitiş-baslama)+ \" saniye sürdü.\")  #Çıktı.\n",
    "        \n",
    "        return sonuç   \n",
    "    \n",
    "    return ekstra\n",
    "\n",
    "\n",
    "\n",
    "@decorator\n",
    "def kareleri(sayılar):\n",
    "    kareler_toplamı=0\n",
    "    for i in sayılar:\n",
    "        kareler_toplamı+=(i**2)\n",
    "    return kareler_toplamı\n",
    "\n",
    "@decorator                             \n",
    "def küpleri(sayılar):\n",
    "    küpleri_toplamı=0\n",
    "    for i in sayılar:\n",
    "        küpleri_toplamı+=(i**3)\n",
    "    return küpleri_toplamı\n",
    "    \n",
    "\n",
    "print(kareleri(range(100000)))\n",
    "print(küpleri(range(100000)))\n",
    "    \n"
   ]
  }
 ],
 "metadata": {
  "kernelspec": {
   "display_name": "Python 3",
   "language": "python",
   "name": "python3"
  },
  "language_info": {
   "codemirror_mode": {
    "name": "ipython",
    "version": 3
   },
   "file_extension": ".py",
   "mimetype": "text/x-python",
   "name": "python",
   "nbconvert_exporter": "python",
   "pygments_lexer": "ipython3",
   "version": "3.12.8"
  }
 },
 "nbformat": 4,
 "nbformat_minor": 4
}
